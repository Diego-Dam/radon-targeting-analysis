{
 "cells": [
  {
   "cell_type": "markdown",
   "metadata": {},
   "source": [
    "# Manova"
   ]
  },
  {
   "cell_type": "code",
   "execution_count": 127,
   "metadata": {},
   "outputs": [],
   "source": [
    "# Import libraries\n",
    "import pandas as pd\n",
    "%matplotlib inline\n",
    "import seaborn as sns\n",
    "import numpy as np\n",
    "import pingouin as pg\n",
    "import matplotlib.pyplot as plt\n",
    "from scipy.stats import chi2_contingency, ttest_ind, f_oneway, shapiro, chi2, kruskal\n",
    "import statsmodels.api as sm\n",
    "from scipy.stats.stats import pearsonr\n",
    "from statsmodels.multivariate.manova import MANOVA\n",
    "import researchpy as rp"
   ]
  },
  {
   "cell_type": "markdown",
   "metadata": {},
   "source": [
    "### Data prep"
   ]
  },
  {
   "cell_type": "code",
   "execution_count": 128,
   "metadata": {},
   "outputs": [],
   "source": [
    "# import the data\n",
    "kg = pd.read_csv(\"05-12-2021_kontrollgruppe_df.csv\", index_col=0) \n",
    "ug = pd.read_csv(\"05-12-2021_untersuchungsgruppe_df.csv\", index_col=0)"
   ]
  },
  {
   "cell_type": "code",
   "execution_count": 129,
   "metadata": {
    "scrolled": true
   },
   "outputs": [
    {
     "name": "stderr",
     "output_type": "stream",
     "text": [
      "C:\\Users\\diego\\AppData\\Local\\Temp/ipykernel_2672/1859721514.py:9: SettingWithCopyWarning: \n",
      "A value is trying to be set on a copy of a slice from a DataFrame.\n",
      "Try using .loc[row_indexer,col_indexer] = value instead\n",
      "\n",
      "See the caveats in the documentation: https://pandas.pydata.org/pandas-docs/stable/user_guide/indexing.html#returning-a-view-versus-a-copy\n",
      "  eg_short[\"Gruppe\"] = \"UG\"\n"
     ]
    },
    {
     "data": {
      "text/html": [
       "<div>\n",
       "<style scoped>\n",
       "    .dataframe tbody tr th:only-of-type {\n",
       "        vertical-align: middle;\n",
       "    }\n",
       "\n",
       "    .dataframe tbody tr th {\n",
       "        vertical-align: top;\n",
       "    }\n",
       "\n",
       "    .dataframe thead th {\n",
       "        text-align: right;\n",
       "    }\n",
       "</style>\n",
       "<table border=\"1\" class=\"dataframe\">\n",
       "  <thead>\n",
       "    <tr style=\"text-align: right;\">\n",
       "      <th></th>\n",
       "      <th>U</th>\n",
       "      <th>R</th>\n",
       "      <th>I</th>\n",
       "      <th>H</th>\n",
       "      <th>C</th>\n",
       "      <th>Gruppe</th>\n",
       "    </tr>\n",
       "  </thead>\n",
       "  <tbody>\n",
       "    <tr>\n",
       "      <th>0</th>\n",
       "      <td>2.50</td>\n",
       "      <td>1.666667</td>\n",
       "      <td>2.5</td>\n",
       "      <td>2.8</td>\n",
       "      <td>2.666667</td>\n",
       "      <td>UG</td>\n",
       "    </tr>\n",
       "    <tr>\n",
       "      <th>1</th>\n",
       "      <td>2.00</td>\n",
       "      <td>2.000000</td>\n",
       "      <td>3.7</td>\n",
       "      <td>3.4</td>\n",
       "      <td>1.000000</td>\n",
       "      <td>UG</td>\n",
       "    </tr>\n",
       "    <tr>\n",
       "      <th>2</th>\n",
       "      <td>0.00</td>\n",
       "      <td>0.000000</td>\n",
       "      <td>4.6</td>\n",
       "      <td>0.0</td>\n",
       "      <td>0.000000</td>\n",
       "      <td>UG</td>\n",
       "    </tr>\n",
       "    <tr>\n",
       "      <th>3</th>\n",
       "      <td>3.25</td>\n",
       "      <td>1.666667</td>\n",
       "      <td>4.2</td>\n",
       "      <td>3.0</td>\n",
       "      <td>2.500000</td>\n",
       "      <td>UG</td>\n",
       "    </tr>\n",
       "    <tr>\n",
       "      <th>4</th>\n",
       "      <td>3.00</td>\n",
       "      <td>0.000000</td>\n",
       "      <td>3.4</td>\n",
       "      <td>2.4</td>\n",
       "      <td>2.000000</td>\n",
       "      <td>UG</td>\n",
       "    </tr>\n",
       "    <tr>\n",
       "      <th>...</th>\n",
       "      <td>...</td>\n",
       "      <td>...</td>\n",
       "      <td>...</td>\n",
       "      <td>...</td>\n",
       "      <td>...</td>\n",
       "      <td>...</td>\n",
       "    </tr>\n",
       "    <tr>\n",
       "      <th>188</th>\n",
       "      <td>2.25</td>\n",
       "      <td>1.000000</td>\n",
       "      <td>4.9</td>\n",
       "      <td>3.4</td>\n",
       "      <td>2.888889</td>\n",
       "      <td>UG</td>\n",
       "    </tr>\n",
       "    <tr>\n",
       "      <th>189</th>\n",
       "      <td>1.75</td>\n",
       "      <td>2.000000</td>\n",
       "      <td>4.5</td>\n",
       "      <td>2.2</td>\n",
       "      <td>2.388889</td>\n",
       "      <td>UG</td>\n",
       "    </tr>\n",
       "    <tr>\n",
       "      <th>190</th>\n",
       "      <td>0.00</td>\n",
       "      <td>0.000000</td>\n",
       "      <td>0.3</td>\n",
       "      <td>2.6</td>\n",
       "      <td>0.500000</td>\n",
       "      <td>UG</td>\n",
       "    </tr>\n",
       "    <tr>\n",
       "      <th>191</th>\n",
       "      <td>2.00</td>\n",
       "      <td>1.000000</td>\n",
       "      <td>3.0</td>\n",
       "      <td>2.2</td>\n",
       "      <td>2.388889</td>\n",
       "      <td>UG</td>\n",
       "    </tr>\n",
       "    <tr>\n",
       "      <th>192</th>\n",
       "      <td>0.00</td>\n",
       "      <td>0.666667</td>\n",
       "      <td>4.3</td>\n",
       "      <td>1.2</td>\n",
       "      <td>0.000000</td>\n",
       "      <td>UG</td>\n",
       "    </tr>\n",
       "  </tbody>\n",
       "</table>\n",
       "<p>193 rows × 6 columns</p>\n",
       "</div>"
      ],
      "text/plain": [
       "        U         R    I    H         C Gruppe\n",
       "0    2.50  1.666667  2.5  2.8  2.666667     UG\n",
       "1    2.00  2.000000  3.7  3.4  1.000000     UG\n",
       "2    0.00  0.000000  4.6  0.0  0.000000     UG\n",
       "3    3.25  1.666667  4.2  3.0  2.500000     UG\n",
       "4    3.00  0.000000  3.4  2.4  2.000000     UG\n",
       "..    ...       ...  ...  ...       ...    ...\n",
       "188  2.25  1.000000  4.9  3.4  2.888889     UG\n",
       "189  1.75  2.000000  4.5  2.2  2.388889     UG\n",
       "190  0.00  0.000000  0.3  2.6  0.500000     UG\n",
       "191  2.00  1.000000  3.0  2.2  2.388889     UG\n",
       "192  0.00  0.666667  4.3  1.2  0.000000     UG\n",
       "\n",
       "[193 rows x 6 columns]"
      ]
     },
     "execution_count": 129,
     "metadata": {},
     "output_type": "execute_result"
    }
   ],
   "source": [
    "# use shortcuts\n",
    "# U = Uncertainty\n",
    "# R = Conditional risk perception\n",
    "# I = Information comprehension\n",
    "# H = Behavioral intention\n",
    "# C = Perceived efficacy\n",
    "eg_short = ug[[\"unsicherheit_score\", \"risikowahrnehmung_score\", \"informationsverstaendnissubjektiv_score\", \"handlungsbereitschaft_score\", \"coping_score\"]]\n",
    "eg_short.columns = [\"U\", \"R\", \"I\", \"H\", \"C\"]\n",
    "eg_short[\"Gruppe\"] = \"UG\"\n",
    "eg_short"
   ]
  },
  {
   "cell_type": "code",
   "execution_count": 130,
   "metadata": {},
   "outputs": [
    {
     "name": "stderr",
     "output_type": "stream",
     "text": [
      "C:\\Users\\diego\\AppData\\Local\\Temp/ipykernel_2672/3085899857.py:3: SettingWithCopyWarning: \n",
      "A value is trying to be set on a copy of a slice from a DataFrame.\n",
      "Try using .loc[row_indexer,col_indexer] = value instead\n",
      "\n",
      "See the caveats in the documentation: https://pandas.pydata.org/pandas-docs/stable/user_guide/indexing.html#returning-a-view-versus-a-copy\n",
      "  cg_short[\"Gruppe\"] = \"KG\"\n"
     ]
    },
    {
     "data": {
      "text/html": [
       "<div>\n",
       "<style scoped>\n",
       "    .dataframe tbody tr th:only-of-type {\n",
       "        vertical-align: middle;\n",
       "    }\n",
       "\n",
       "    .dataframe tbody tr th {\n",
       "        vertical-align: top;\n",
       "    }\n",
       "\n",
       "    .dataframe thead th {\n",
       "        text-align: right;\n",
       "    }\n",
       "</style>\n",
       "<table border=\"1\" class=\"dataframe\">\n",
       "  <thead>\n",
       "    <tr style=\"text-align: right;\">\n",
       "      <th></th>\n",
       "      <th>U</th>\n",
       "      <th>R</th>\n",
       "      <th>I</th>\n",
       "      <th>H</th>\n",
       "      <th>C</th>\n",
       "      <th>Gruppe</th>\n",
       "    </tr>\n",
       "  </thead>\n",
       "  <tbody>\n",
       "    <tr>\n",
       "      <th>0</th>\n",
       "      <td>0.25</td>\n",
       "      <td>2.000000</td>\n",
       "      <td>3.3</td>\n",
       "      <td>2.4</td>\n",
       "      <td>2.055556</td>\n",
       "      <td>KG</td>\n",
       "    </tr>\n",
       "    <tr>\n",
       "      <th>1</th>\n",
       "      <td>1.50</td>\n",
       "      <td>1.666667</td>\n",
       "      <td>4.6</td>\n",
       "      <td>4.0</td>\n",
       "      <td>3.722222</td>\n",
       "      <td>KG</td>\n",
       "    </tr>\n",
       "    <tr>\n",
       "      <th>2</th>\n",
       "      <td>2.50</td>\n",
       "      <td>1.333333</td>\n",
       "      <td>4.2</td>\n",
       "      <td>3.0</td>\n",
       "      <td>2.111111</td>\n",
       "      <td>KG</td>\n",
       "    </tr>\n",
       "    <tr>\n",
       "      <th>3</th>\n",
       "      <td>3.75</td>\n",
       "      <td>1.000000</td>\n",
       "      <td>4.4</td>\n",
       "      <td>1.4</td>\n",
       "      <td>1.888889</td>\n",
       "      <td>KG</td>\n",
       "    </tr>\n",
       "    <tr>\n",
       "      <th>4</th>\n",
       "      <td>2.75</td>\n",
       "      <td>2.333333</td>\n",
       "      <td>3.9</td>\n",
       "      <td>2.0</td>\n",
       "      <td>2.611111</td>\n",
       "      <td>KG</td>\n",
       "    </tr>\n",
       "    <tr>\n",
       "      <th>...</th>\n",
       "      <td>...</td>\n",
       "      <td>...</td>\n",
       "      <td>...</td>\n",
       "      <td>...</td>\n",
       "      <td>...</td>\n",
       "      <td>...</td>\n",
       "    </tr>\n",
       "    <tr>\n",
       "      <th>95</th>\n",
       "      <td>2.75</td>\n",
       "      <td>1.333333</td>\n",
       "      <td>4.7</td>\n",
       "      <td>4.0</td>\n",
       "      <td>3.055556</td>\n",
       "      <td>KG</td>\n",
       "    </tr>\n",
       "    <tr>\n",
       "      <th>96</th>\n",
       "      <td>1.00</td>\n",
       "      <td>1.666667</td>\n",
       "      <td>4.2</td>\n",
       "      <td>3.4</td>\n",
       "      <td>3.111111</td>\n",
       "      <td>KG</td>\n",
       "    </tr>\n",
       "    <tr>\n",
       "      <th>97</th>\n",
       "      <td>2.75</td>\n",
       "      <td>1.666667</td>\n",
       "      <td>4.4</td>\n",
       "      <td>3.8</td>\n",
       "      <td>2.388889</td>\n",
       "      <td>KG</td>\n",
       "    </tr>\n",
       "    <tr>\n",
       "      <th>98</th>\n",
       "      <td>2.25</td>\n",
       "      <td>1.666667</td>\n",
       "      <td>4.6</td>\n",
       "      <td>2.2</td>\n",
       "      <td>2.666667</td>\n",
       "      <td>KG</td>\n",
       "    </tr>\n",
       "    <tr>\n",
       "      <th>99</th>\n",
       "      <td>1.00</td>\n",
       "      <td>2.666667</td>\n",
       "      <td>5.0</td>\n",
       "      <td>4.0</td>\n",
       "      <td>2.944444</td>\n",
       "      <td>KG</td>\n",
       "    </tr>\n",
       "  </tbody>\n",
       "</table>\n",
       "<p>100 rows × 6 columns</p>\n",
       "</div>"
      ],
      "text/plain": [
       "       U         R    I    H         C Gruppe\n",
       "0   0.25  2.000000  3.3  2.4  2.055556     KG\n",
       "1   1.50  1.666667  4.6  4.0  3.722222     KG\n",
       "2   2.50  1.333333  4.2  3.0  2.111111     KG\n",
       "3   3.75  1.000000  4.4  1.4  1.888889     KG\n",
       "4   2.75  2.333333  3.9  2.0  2.611111     KG\n",
       "..   ...       ...  ...  ...       ...    ...\n",
       "95  2.75  1.333333  4.7  4.0  3.055556     KG\n",
       "96  1.00  1.666667  4.2  3.4  3.111111     KG\n",
       "97  2.75  1.666667  4.4  3.8  2.388889     KG\n",
       "98  2.25  1.666667  4.6  2.2  2.666667     KG\n",
       "99  1.00  2.666667  5.0  4.0  2.944444     KG\n",
       "\n",
       "[100 rows x 6 columns]"
      ]
     },
     "execution_count": 130,
     "metadata": {},
     "output_type": "execute_result"
    }
   ],
   "source": [
    "cg_short = kg[[\"unsicherheit_score\", \"risikowahrnehmung_score\", \"informationsverstaendnissubjektiv_score\", \"handlungsbereitschaft_score\", \"coping_score\"]]\n",
    "cg_short.columns = [\"U\", \"R\", \"I\", \"H\", \"C\"]\n",
    "cg_short[\"Gruppe\"] = \"KG\"\n",
    "cg_short"
   ]
  },
  {
   "cell_type": "code",
   "execution_count": 131,
   "metadata": {},
   "outputs": [
    {
     "data": {
      "text/html": [
       "<div>\n",
       "<style scoped>\n",
       "    .dataframe tbody tr th:only-of-type {\n",
       "        vertical-align: middle;\n",
       "    }\n",
       "\n",
       "    .dataframe tbody tr th {\n",
       "        vertical-align: top;\n",
       "    }\n",
       "\n",
       "    .dataframe thead th {\n",
       "        text-align: right;\n",
       "    }\n",
       "</style>\n",
       "<table border=\"1\" class=\"dataframe\">\n",
       "  <thead>\n",
       "    <tr style=\"text-align: right;\">\n",
       "      <th></th>\n",
       "      <th>U</th>\n",
       "      <th>R</th>\n",
       "      <th>I</th>\n",
       "      <th>H</th>\n",
       "      <th>C</th>\n",
       "      <th>Gruppe</th>\n",
       "    </tr>\n",
       "  </thead>\n",
       "  <tbody>\n",
       "    <tr>\n",
       "      <th>0</th>\n",
       "      <td>2.50</td>\n",
       "      <td>1.666667</td>\n",
       "      <td>2.5</td>\n",
       "      <td>2.8</td>\n",
       "      <td>2.666667</td>\n",
       "      <td>UG</td>\n",
       "    </tr>\n",
       "    <tr>\n",
       "      <th>1</th>\n",
       "      <td>2.00</td>\n",
       "      <td>2.000000</td>\n",
       "      <td>3.7</td>\n",
       "      <td>3.4</td>\n",
       "      <td>1.000000</td>\n",
       "      <td>UG</td>\n",
       "    </tr>\n",
       "    <tr>\n",
       "      <th>2</th>\n",
       "      <td>0.00</td>\n",
       "      <td>0.000000</td>\n",
       "      <td>4.6</td>\n",
       "      <td>0.0</td>\n",
       "      <td>0.000000</td>\n",
       "      <td>UG</td>\n",
       "    </tr>\n",
       "    <tr>\n",
       "      <th>3</th>\n",
       "      <td>3.25</td>\n",
       "      <td>1.666667</td>\n",
       "      <td>4.2</td>\n",
       "      <td>3.0</td>\n",
       "      <td>2.500000</td>\n",
       "      <td>UG</td>\n",
       "    </tr>\n",
       "    <tr>\n",
       "      <th>4</th>\n",
       "      <td>3.00</td>\n",
       "      <td>0.000000</td>\n",
       "      <td>3.4</td>\n",
       "      <td>2.4</td>\n",
       "      <td>2.000000</td>\n",
       "      <td>UG</td>\n",
       "    </tr>\n",
       "    <tr>\n",
       "      <th>...</th>\n",
       "      <td>...</td>\n",
       "      <td>...</td>\n",
       "      <td>...</td>\n",
       "      <td>...</td>\n",
       "      <td>...</td>\n",
       "      <td>...</td>\n",
       "    </tr>\n",
       "    <tr>\n",
       "      <th>95</th>\n",
       "      <td>2.75</td>\n",
       "      <td>1.333333</td>\n",
       "      <td>4.7</td>\n",
       "      <td>4.0</td>\n",
       "      <td>3.055556</td>\n",
       "      <td>KG</td>\n",
       "    </tr>\n",
       "    <tr>\n",
       "      <th>96</th>\n",
       "      <td>1.00</td>\n",
       "      <td>1.666667</td>\n",
       "      <td>4.2</td>\n",
       "      <td>3.4</td>\n",
       "      <td>3.111111</td>\n",
       "      <td>KG</td>\n",
       "    </tr>\n",
       "    <tr>\n",
       "      <th>97</th>\n",
       "      <td>2.75</td>\n",
       "      <td>1.666667</td>\n",
       "      <td>4.4</td>\n",
       "      <td>3.8</td>\n",
       "      <td>2.388889</td>\n",
       "      <td>KG</td>\n",
       "    </tr>\n",
       "    <tr>\n",
       "      <th>98</th>\n",
       "      <td>2.25</td>\n",
       "      <td>1.666667</td>\n",
       "      <td>4.6</td>\n",
       "      <td>2.2</td>\n",
       "      <td>2.666667</td>\n",
       "      <td>KG</td>\n",
       "    </tr>\n",
       "    <tr>\n",
       "      <th>99</th>\n",
       "      <td>1.00</td>\n",
       "      <td>2.666667</td>\n",
       "      <td>5.0</td>\n",
       "      <td>4.0</td>\n",
       "      <td>2.944444</td>\n",
       "      <td>KG</td>\n",
       "    </tr>\n",
       "  </tbody>\n",
       "</table>\n",
       "<p>293 rows × 6 columns</p>\n",
       "</div>"
      ],
      "text/plain": [
       "       U         R    I    H         C Gruppe\n",
       "0   2.50  1.666667  2.5  2.8  2.666667     UG\n",
       "1   2.00  2.000000  3.7  3.4  1.000000     UG\n",
       "2   0.00  0.000000  4.6  0.0  0.000000     UG\n",
       "3   3.25  1.666667  4.2  3.0  2.500000     UG\n",
       "4   3.00  0.000000  3.4  2.4  2.000000     UG\n",
       "..   ...       ...  ...  ...       ...    ...\n",
       "95  2.75  1.333333  4.7  4.0  3.055556     KG\n",
       "96  1.00  1.666667  4.2  3.4  3.111111     KG\n",
       "97  2.75  1.666667  4.4  3.8  2.388889     KG\n",
       "98  2.25  1.666667  4.6  2.2  2.666667     KG\n",
       "99  1.00  2.666667  5.0  4.0  2.944444     KG\n",
       "\n",
       "[293 rows x 6 columns]"
      ]
     },
     "execution_count": 131,
     "metadata": {},
     "output_type": "execute_result"
    }
   ],
   "source": [
    "all_short = eg_short.append(cg_short)\n",
    "all_short"
   ]
  },
  {
   "cell_type": "code",
   "execution_count": 132,
   "metadata": {},
   "outputs": [
    {
     "data": {
      "image/png": "[encoded data removed]",
      "text/plain": [
       "<Figure size 1008x720 with 6 Axes>"
      ]
     },
     "metadata": {
      "needs_background": "light"
     },
     "output_type": "display_data"
    }
   ],
   "source": [
    "all_short.boxplot(by='Gruppe', figsize=(14,10))\n",
    "plt.tight_layout(pad=0.5)\n",
    "plt.savefig('Grafiken_Daten/Boxplot_scores_by_gruppe_abschlusspresentation', dpi = 600)\n",
    "#plt.show()"
   ]
  },
  {
   "cell_type": "markdown",
   "metadata": {},
   "source": [
    "## Requirement 1: Inspect distributions"
   ]
  },
  {
   "cell_type": "markdown",
   "metadata": {},
   "source": [
    "### Conditional risk perception score"
   ]
  },
  {
   "cell_type": "code",
   "execution_count": 133,
   "metadata": {
    "scrolled": true
   },
   "outputs": [
    {
     "data": {
      "text/plain": [
       "(10, 9)"
      ]
     },
     "execution_count": 133,
     "metadata": {},
     "output_type": "execute_result"
    }
   ],
   "source": [
    "len(ug.risikowahrnehmung_score.unique()), len(kg.risikowahrnehmung_score.unique())"
   ]
  },
  {
   "cell_type": "code",
   "execution_count": 134,
   "metadata": {
    "scrolled": true
   },
   "outputs": [
    {
     "data": {
      "text/plain": [
       "(count    193.000000\n",
       " mean       1.671848\n",
       " std        0.660104\n",
       " min        0.000000\n",
       " 25%        1.333333\n",
       " 50%        1.666667\n",
       " 75%        2.000000\n",
       " max        3.333333\n",
       " Name: risikowahrnehmung_score, dtype: float64,\n",
       " count    100.000000\n",
       " mean       1.676667\n",
       " std        0.616742\n",
       " min        0.000000\n",
       " 25%        1.333333\n",
       " 50%        1.666667\n",
       " 75%        2.000000\n",
       " max        3.333333\n",
       " Name: risikowahrnehmung_score, dtype: float64)"
      ]
     },
     "execution_count": 134,
     "metadata": {},
     "output_type": "execute_result"
    }
   ],
   "source": [
    "ug.risikowahrnehmung_score.describe(), kg.risikowahrnehmung_score.describe()"
   ]
  },
  {
   "cell_type": "code",
   "execution_count": 135,
   "metadata": {
    "scrolled": true
   },
   "outputs": [
    {
     "data": {
      "image/png": "[encoded data removed]",
      "text/plain": [
       "<Figure size 432x288 with 1 Axes>"
      ]
     },
     "metadata": {
      "needs_background": "light"
     },
     "output_type": "display_data"
    }
   ],
   "source": [
    "df =  pd.DataFrame()\n",
    "df['EG'] = ug.risikowahrnehmung_score\n",
    "df['CG'] = kg.risikowahrnehmung_score\n",
    "ax = df.plot.hist(alpha=0.5)\n",
    "plt.title(\"Conditional risk perception Score\")\n",
    "plt.savefig('Grafiken_Daten/Risikowahrnehmung_Score', dpi = 600)\n",
    "plt.show()"
   ]
  },
  {
   "cell_type": "code",
   "execution_count": 136,
   "metadata": {},
   "outputs": [
    {
     "name": "stdout",
     "output_type": "stream",
     "text": [
      "Statistics=0.910, p=0.000\n",
      "Since the p-value is lower than the defined alpha level, the null hypotesis (normal distribution) is rejected\n"
     ]
    }
   ],
   "source": [
    "# normality test for eg\n",
    "stat, p = shapiro(ug.risikowahrnehmung_score)\n",
    "print('Statistics=%.3f, p=%.3f' % (stat, p))\n",
    "# interpret\n",
    "alpha = 0.05\n",
    "if p > alpha:\n",
    "\tprint('Since the p-value is bigger than the defined alpha level, the null hypotesis (normal distribution) is accepted')\n",
    "else:\n",
    "\tprint('Since the p-value is lower than the defined alpha level, the null hypotesis (normal distribution) is rejected')"
   ]
  },
  {
   "cell_type": "code",
   "execution_count": 137,
   "metadata": {},
   "outputs": [
    {
     "name": "stdout",
     "output_type": "stream",
     "text": [
      "Statistics=0.902, p=0.000\n",
      "Since the p-value is lower than the defined alpha level, the null hypotesis (normal distribution) is rejected\n"
     ]
    }
   ],
   "source": [
    "# normality test for cg\n",
    "stat, p = shapiro(kg.risikowahrnehmung_score)\n",
    "print('Statistics=%.3f, p=%.3f' % (stat, p))\n",
    "# interpret\n",
    "alpha = 0.05\n",
    "if p > alpha:\n",
    "\tprint('Since the p-value is bigger than the defined alpha level, the null hypotesis (normal distribution) is accepted')\n",
    "else:\n",
    "\tprint('Since the p-value is lower than the defined alpha level, the null hypotesis (normal distribution) is rejected')"
   ]
  },
  {
   "cell_type": "markdown",
   "metadata": {},
   "source": [
    "### Information comprehension score"
   ]
  },
  {
   "cell_type": "code",
   "execution_count": 138,
   "metadata": {},
   "outputs": [
    {
     "data": {
      "text/plain": [
       "(30, 27)"
      ]
     },
     "execution_count": 138,
     "metadata": {},
     "output_type": "execute_result"
    }
   ],
   "source": [
    "len(ug.informationsverstaendnissubjektiv_score.unique()), len(kg.informationsverstaendnissubjektiv_score.unique())"
   ]
  },
  {
   "cell_type": "code",
   "execution_count": 139,
   "metadata": {
    "scrolled": true
   },
   "outputs": [
    {
     "data": {
      "text/plain": [
       "(count    193.000000\n",
       " mean       4.071503\n",
       " std        0.868767\n",
       " min        0.000000\n",
       " 25%        3.700000\n",
       " 50%        4.200000\n",
       " 75%        4.800000\n",
       " max        5.000000\n",
       " Name: informationsverstaendnissubjektiv_score, dtype: float64,\n",
       " count    100.000000\n",
       " mean       4.104000\n",
       " std        0.871655\n",
       " min        0.000000\n",
       " 25%        3.700000\n",
       " 50%        4.300000\n",
       " 75%        4.725000\n",
       " max        5.000000\n",
       " Name: informationsverstaendnissubjektiv_score, dtype: float64)"
      ]
     },
     "execution_count": 139,
     "metadata": {},
     "output_type": "execute_result"
    }
   ],
   "source": [
    "ug.informationsverstaendnissubjektiv_score.describe(), kg.informationsverstaendnissubjektiv_score.describe()"
   ]
  },
  {
   "cell_type": "code",
   "execution_count": 140,
   "metadata": {
    "scrolled": true
   },
   "outputs": [
    {
     "data": {
      "image/png": "[encoded data removed]",
      "text/plain": [
       "<Figure size 432x288 with 1 Axes>"
      ]
     },
     "metadata": {
      "needs_background": "light"
     },
     "output_type": "display_data"
    }
   ],
   "source": [
    "df =  pd.DataFrame()\n",
    "df['EG'] = ug.informationsverstaendnissubjektiv_score\n",
    "df['CG'] = kg.informationsverstaendnissubjektiv_score\n",
    "ax = df.plot.hist(alpha=0.5)\n",
    "plt.title(\"Comprehension of information Score\")\n",
    "plt.savefig('Grafiken_Daten/informationsverständnis_score', dpi = 600)\n",
    "plt.show()"
   ]
  },
  {
   "cell_type": "code",
   "execution_count": 141,
   "metadata": {},
   "outputs": [
    {
     "name": "stdout",
     "output_type": "stream",
     "text": [
      "Statistics=0.860, p=0.000\n",
      "Since the p-value is lower than the defined alpha level, the null hypotesis (normal distribution) is rejected\n"
     ]
    }
   ],
   "source": [
    "# normality test for ug\n",
    "stat, p = shapiro(ug.informationsverstaendnissubjektiv_score)\n",
    "print('Statistics=%.3f, p=%.3f' % (stat, p))\n",
    "# interpret\n",
    "alpha = 0.05\n",
    "if p > alpha:\n",
    "\tprint('Since the p-value is bigger than the defined alpha level, the null hypotesis (normal distribution) is accepted')\n",
    "else:\n",
    "\tprint('Since the p-value is lower than the defined alpha level, the null hypotesis (normal distribution) is rejected')"
   ]
  },
  {
   "cell_type": "code",
   "execution_count": 142,
   "metadata": {},
   "outputs": [
    {
     "name": "stdout",
     "output_type": "stream",
     "text": [
      "Statistics=0.849, p=0.000\n",
      "Since the p-value is lower than the defined alpha level, the null hypotesis (normal distribution) is rejected\n"
     ]
    }
   ],
   "source": [
    "# normality test for kg\n",
    "stat, p = shapiro(kg.informationsverstaendnissubjektiv_score)\n",
    "print('Statistics=%.3f, p=%.3f' % (stat, p))\n",
    "# interpret\n",
    "alpha = 0.05\n",
    "if p > alpha:\n",
    "\tprint('Since the p-value is bigger than the defined alpha level, the null hypotesis (normal distribution) is accepted')\n",
    "else:\n",
    "\tprint('Since the p-value is lower than the defined alpha level, the null hypotesis (normal distribution) is rejected')"
   ]
  },
  {
   "cell_type": "markdown",
   "metadata": {},
   "source": [
    "### Behavioral intention score"
   ]
  },
  {
   "cell_type": "code",
   "execution_count": 143,
   "metadata": {},
   "outputs": [
    {
     "data": {
      "text/plain": [
       "(17, 16)"
      ]
     },
     "execution_count": 143,
     "metadata": {},
     "output_type": "execute_result"
    }
   ],
   "source": [
    "len(ug.handlungsbereitschaft_score.unique()), len(kg.handlungsbereitschaft_score.unique())"
   ]
  },
  {
   "cell_type": "code",
   "execution_count": 144,
   "metadata": {},
   "outputs": [
    {
     "data": {
      "text/plain": [
       "(count    193.000000\n",
       " mean       2.947150\n",
       " std        0.902949\n",
       " min        0.000000\n",
       " 25%        2.400000\n",
       " 50%        3.000000\n",
       " 75%        3.600000\n",
       " max        4.000000\n",
       " Name: handlungsbereitschaft_score, dtype: float64,\n",
       " count    100.000000\n",
       " mean       3.038000\n",
       " std        0.825696\n",
       " min        0.000000\n",
       " 25%        2.400000\n",
       " 50%        3.100000\n",
       " 75%        3.800000\n",
       " max        4.000000\n",
       " Name: handlungsbereitschaft_score, dtype: float64)"
      ]
     },
     "execution_count": 144,
     "metadata": {},
     "output_type": "execute_result"
    }
   ],
   "source": [
    "ug.handlungsbereitschaft_score.describe(), kg.handlungsbereitschaft_score.describe()"
   ]
  },
  {
   "cell_type": "code",
   "execution_count": 145,
   "metadata": {
    "scrolled": true
   },
   "outputs": [
    {
     "data": {
      "image/png": "[encoded data removed]",
      "text/plain": [
       "<Figure size 432x288 with 1 Axes>"
      ]
     },
     "metadata": {
      "needs_background": "light"
     },
     "output_type": "display_data"
    }
   ],
   "source": [
    "df =  pd.DataFrame()\n",
    "df['EG'] = ug.handlungsbereitschaft_score\n",
    "df['CG'] = kg.handlungsbereitschaft_score\n",
    "ax = df.plot.hist(alpha=0.5)\n",
    "plt.title(\"Behavioral intention Score\")\n",
    "plt.savefig('Grafiken_Daten/handlungsbereitschaft_score', dpi = 600)\n",
    "plt.show()"
   ]
  },
  {
   "cell_type": "code",
   "execution_count": 146,
   "metadata": {},
   "outputs": [
    {
     "name": "stdout",
     "output_type": "stream",
     "text": [
      "Statistics=0.916, p=0.000\n",
      "Since the p-value is lower than the defined alpha level, the null hypotesis (normal distribution) is rejected\n"
     ]
    }
   ],
   "source": [
    "# normality test for ug\n",
    "stat, p = shapiro(kg.handlungsbereitschaft_score)\n",
    "print('Statistics=%.3f, p=%.3f' % (stat, p))\n",
    "# interpret\n",
    "alpha = 0.05\n",
    "if p > alpha:\n",
    "\tprint('Since the p-value is bigger than the defined alpha level, the null hypotesis (normal distribution) is accepted')\n",
    "else:\n",
    "\tprint('Since the p-value is lower than the defined alpha level, the null hypotesis (normal distribution) is rejected')"
   ]
  },
  {
   "cell_type": "code",
   "execution_count": 147,
   "metadata": {},
   "outputs": [
    {
     "name": "stdout",
     "output_type": "stream",
     "text": [
      "Statistics=0.895, p=0.000\n",
      "Since the p-value is lower than the defined alpha level, the null hypotesis (normal distribution) is rejected\n"
     ]
    }
   ],
   "source": [
    "# normality test for ug\n",
    "stat, p = shapiro(ug.handlungsbereitschaft_score)\n",
    "print('Statistics=%.3f, p=%.3f' % (stat, p))\n",
    "# interpret\n",
    "alpha = 0.05\n",
    "if p > alpha:\n",
    "\tprint('Since the p-value is bigger than the defined alpha level, the null hypotesis (normal distribution) is accepted')\n",
    "else:\n",
    "\tprint('Since the p-value is lower than the defined alpha level, the null hypotesis (normal distribution) is rejected')"
   ]
  },
  {
   "cell_type": "markdown",
   "metadata": {},
   "source": [
    "### Perceived efficacy score"
   ]
  },
  {
   "cell_type": "code",
   "execution_count": 148,
   "metadata": {},
   "outputs": [
    {
     "data": {
      "text/plain": [
       "(55, 45)"
      ]
     },
     "execution_count": 148,
     "metadata": {},
     "output_type": "execute_result"
    }
   ],
   "source": [
    "len(ug.coping_score.unique()), len(kg.coping_score.unique())"
   ]
  },
  {
   "cell_type": "code",
   "execution_count": 149,
   "metadata": {},
   "outputs": [
    {
     "data": {
      "text/plain": [
       "(count    193.000000\n",
       " mean       2.407311\n",
       " std        0.937944\n",
       " min        0.000000\n",
       " 25%        2.055556\n",
       " 50%        2.611111\n",
       " 75%        3.000000\n",
       " max        3.722222\n",
       " Name: coping_score, dtype: float64,\n",
       " count    100.000000\n",
       " mean       2.400000\n",
       " std        0.933404\n",
       " min        0.000000\n",
       " 25%        2.055556\n",
       " 50%        2.555556\n",
       " 75%        3.013889\n",
       " max        3.888889\n",
       " Name: coping_score, dtype: float64)"
      ]
     },
     "execution_count": 149,
     "metadata": {},
     "output_type": "execute_result"
    }
   ],
   "source": [
    "ug.coping_score.describe(), kg.coping_score.describe()"
   ]
  },
  {
   "cell_type": "code",
   "execution_count": 150,
   "metadata": {
    "scrolled": true
   },
   "outputs": [
    {
     "data": {
      "image/png": "[encoded data removed]",
      "text/plain": [
       "<Figure size 432x288 with 1 Axes>"
      ]
     },
     "metadata": {
      "needs_background": "light"
     },
     "output_type": "display_data"
    }
   ],
   "source": [
    "df =  pd.DataFrame()\n",
    "df['EG'] = ug.coping_score\n",
    "df['CG'] = kg.coping_score\n",
    "ax = df.plot.hist(alpha=0.5)\n",
    "plt.title(\"Perceived efficacy Score\")\n",
    "plt.savefig('Grafiken_Daten/coping_score', dpi = 600)\n",
    "plt.show()"
   ]
  },
  {
   "cell_type": "code",
   "execution_count": 151,
   "metadata": {},
   "outputs": [
    {
     "name": "stdout",
     "output_type": "stream",
     "text": [
      "Statistics=0.901, p=0.000\n",
      "Since the p-value is lower than the defined alpha level, the null hypotesis (normal distribution) is rejected\n"
     ]
    }
   ],
   "source": [
    "# normality test for ug\n",
    "stat, p = shapiro(kg.coping_score)\n",
    "print('Statistics=%.3f, p=%.3f' % (stat, p))\n",
    "# interpret\n",
    "alpha = 0.05\n",
    "if p > alpha:\n",
    "\tprint('Since the p-value is bigger than the defined alpha level, the null hypotesis (normal distribution) is accepted')\n",
    "else:\n",
    "\tprint('Since the p-value is lower than the defined alpha level, the null hypotesis (normal distribution) is rejected')"
   ]
  },
  {
   "cell_type": "code",
   "execution_count": 152,
   "metadata": {},
   "outputs": [
    {
     "name": "stdout",
     "output_type": "stream",
     "text": [
      "Statistics=0.865, p=0.000\n",
      "Since the p-value is lower than the defined alpha level, the null hypotesis (normal distribution) is rejected\n"
     ]
    }
   ],
   "source": [
    "# normality test for ug\n",
    "stat, p = shapiro(ug.coping_score)\n",
    "print('Statistics=%.3f, p=%.3f' % (stat, p))\n",
    "# interpret\n",
    "alpha = 0.05\n",
    "if p > alpha:\n",
    "\tprint('Since the p-value is bigger than the defined alpha level, the null hypotesis (normal distribution) is accepted')\n",
    "else:\n",
    "\tprint('Since the p-value is lower than the defined alpha level, the null hypotesis (normal distribution) is rejected')"
   ]
  },
  {
   "cell_type": "markdown",
   "metadata": {},
   "source": [
    "### Uncertainty score"
   ]
  },
  {
   "cell_type": "code",
   "execution_count": 153,
   "metadata": {},
   "outputs": [
    {
     "data": {
      "text/plain": [
       "(16, 16)"
      ]
     },
     "execution_count": 153,
     "metadata": {},
     "output_type": "execute_result"
    }
   ],
   "source": [
    "len(ug.unsicherheit_score.unique()), len(kg.unsicherheit_score.unique())"
   ]
  },
  {
   "cell_type": "code",
   "execution_count": 154,
   "metadata": {},
   "outputs": [
    {
     "data": {
      "text/plain": [
       "(count    193.000000\n",
       " mean       2.051813\n",
       " std        0.994403\n",
       " min        0.000000\n",
       " 25%        1.500000\n",
       " 50%        2.250000\n",
       " 75%        2.750000\n",
       " max        4.000000\n",
       " Name: unsicherheit_score, dtype: float64,\n",
       " count    100.000000\n",
       " mean       2.005000\n",
       " std        1.076599\n",
       " min        0.000000\n",
       " 25%        1.000000\n",
       " 50%        2.000000\n",
       " 75%        2.750000\n",
       " max        4.000000\n",
       " Name: unsicherheit_score, dtype: float64)"
      ]
     },
     "execution_count": 154,
     "metadata": {},
     "output_type": "execute_result"
    }
   ],
   "source": [
    "ug.unsicherheit_score.describe(), kg.unsicherheit_score.describe()"
   ]
  },
  {
   "cell_type": "code",
   "execution_count": 155,
   "metadata": {},
   "outputs": [
    {
     "data": {
      "image/png": "[encoded data removed]",
      "text/plain": [
       "<Figure size 432x288 with 1 Axes>"
      ]
     },
     "metadata": {
      "needs_background": "light"
     },
     "output_type": "display_data"
    }
   ],
   "source": [
    "df =  pd.DataFrame()\n",
    "df['EG'] = ug.unsicherheit_score\n",
    "df['CG'] = kg.unsicherheit_score\n",
    "ax = df.plot.hist(alpha=0.5)\n",
    "plt.title(\"Uncertainty Score\")\n",
    "plt.savefig('Grafiken_Daten/unsicherheit_score', dpi = 600)\n",
    "plt.show()"
   ]
  },
  {
   "cell_type": "code",
   "execution_count": 156,
   "metadata": {},
   "outputs": [
    {
     "name": "stdout",
     "output_type": "stream",
     "text": [
      "Statistics=0.965, p=0.009\n",
      "Since the p-value is lower than the defined alpha level, the null hypotesis (normal distribution) is rejected\n"
     ]
    }
   ],
   "source": [
    "# normality test for ug\n",
    "stat, p = shapiro(kg.unsicherheit_score)\n",
    "print('Statistics=%.3f, p=%.3f' % (stat, p))\n",
    "# interpret\n",
    "alpha = 0.05\n",
    "if p > alpha:\n",
    "\tprint('Since the p-value is bigger than the defined alpha level, the null hypotesis (normal distribution) is accepted')\n",
    "else:\n",
    "\tprint('Since the p-value is lower than the defined alpha level, the null hypotesis (normal distribution) is rejected')"
   ]
  },
  {
   "cell_type": "code",
   "execution_count": 157,
   "metadata": {},
   "outputs": [
    {
     "name": "stdout",
     "output_type": "stream",
     "text": [
      "Statistics=0.966, p=0.000\n",
      "Since the p-value is lower than the defined alpha level, the null hypotesis (normal distribution) is rejected\n"
     ]
    }
   ],
   "source": [
    "# normality test for ug\n",
    "stat, p = shapiro(ug.unsicherheit_score)\n",
    "print('Statistics=%.3f, p=%.3f' % (stat, p))\n",
    "# interpret\n",
    "alpha = 0.05\n",
    "if p > alpha:\n",
    "\tprint('Since the p-value is bigger than the defined alpha level, the null hypotesis (normal distribution) is accepted')\n",
    "else:\n",
    "\tprint('Since the p-value is lower than the defined alpha level, the null hypotesis (normal distribution) is rejected')"
   ]
  },
  {
   "cell_type": "markdown",
   "metadata": {},
   "source": [
    "## Requirement 2: Correlations among the dependent variables"
   ]
  },
  {
   "cell_type": "code",
   "execution_count": 158,
   "metadata": {
    "scrolled": true
   },
   "outputs": [
    {
     "data": {
      "text/html": [
       "<div>\n",
       "<style scoped>\n",
       "    .dataframe tbody tr th:only-of-type {\n",
       "        vertical-align: middle;\n",
       "    }\n",
       "\n",
       "    .dataframe tbody tr th {\n",
       "        vertical-align: top;\n",
       "    }\n",
       "\n",
       "    .dataframe thead th {\n",
       "        text-align: right;\n",
       "    }\n",
       "</style>\n",
       "<table border=\"1\" class=\"dataframe\">\n",
       "  <thead>\n",
       "    <tr style=\"text-align: right;\">\n",
       "      <th></th>\n",
       "      <th>unsicherheit_score</th>\n",
       "      <th>risikowahrnehmung_score</th>\n",
       "      <th>informationsverstaendnissubjektiv_score</th>\n",
       "      <th>handlungsbereitschaft_score</th>\n",
       "      <th>coping_score</th>\n",
       "    </tr>\n",
       "  </thead>\n",
       "  <tbody>\n",
       "    <tr>\n",
       "      <th>unsicherheit_score</th>\n",
       "      <td>1.000000</td>\n",
       "      <td>0.242916</td>\n",
       "      <td>0.134955</td>\n",
       "      <td>0.181434</td>\n",
       "      <td>0.233429</td>\n",
       "    </tr>\n",
       "    <tr>\n",
       "      <th>risikowahrnehmung_score</th>\n",
       "      <td>0.242916</td>\n",
       "      <td>1.000000</td>\n",
       "      <td>0.220347</td>\n",
       "      <td>0.354069</td>\n",
       "      <td>0.262804</td>\n",
       "    </tr>\n",
       "    <tr>\n",
       "      <th>informationsverstaendnissubjektiv_score</th>\n",
       "      <td>0.134955</td>\n",
       "      <td>0.220347</td>\n",
       "      <td>1.000000</td>\n",
       "      <td>0.308265</td>\n",
       "      <td>0.404534</td>\n",
       "    </tr>\n",
       "    <tr>\n",
       "      <th>handlungsbereitschaft_score</th>\n",
       "      <td>0.181434</td>\n",
       "      <td>0.354069</td>\n",
       "      <td>0.308265</td>\n",
       "      <td>1.000000</td>\n",
       "      <td>0.498057</td>\n",
       "    </tr>\n",
       "    <tr>\n",
       "      <th>coping_score</th>\n",
       "      <td>0.233429</td>\n",
       "      <td>0.262804</td>\n",
       "      <td>0.404534</td>\n",
       "      <td>0.498057</td>\n",
       "      <td>1.000000</td>\n",
       "    </tr>\n",
       "  </tbody>\n",
       "</table>\n",
       "</div>"
      ],
      "text/plain": [
       "                                         unsicherheit_score  \\\n",
       "unsicherheit_score                                 1.000000   \n",
       "risikowahrnehmung_score                            0.242916   \n",
       "informationsverstaendnissubjektiv_score            0.134955   \n",
       "handlungsbereitschaft_score                        0.181434   \n",
       "coping_score                                       0.233429   \n",
       "\n",
       "                                         risikowahrnehmung_score  \\\n",
       "unsicherheit_score                                      0.242916   \n",
       "risikowahrnehmung_score                                 1.000000   \n",
       "informationsverstaendnissubjektiv_score                 0.220347   \n",
       "handlungsbereitschaft_score                             0.354069   \n",
       "coping_score                                            0.262804   \n",
       "\n",
       "                                         informationsverstaendnissubjektiv_score  \\\n",
       "unsicherheit_score                                                      0.134955   \n",
       "risikowahrnehmung_score                                                 0.220347   \n",
       "informationsverstaendnissubjektiv_score                                 1.000000   \n",
       "handlungsbereitschaft_score                                             0.308265   \n",
       "coping_score                                                            0.404534   \n",
       "\n",
       "                                         handlungsbereitschaft_score  \\\n",
       "unsicherheit_score                                          0.181434   \n",
       "risikowahrnehmung_score                                     0.354069   \n",
       "informationsverstaendnissubjektiv_score                     0.308265   \n",
       "handlungsbereitschaft_score                                 1.000000   \n",
       "coping_score                                                0.498057   \n",
       "\n",
       "                                         coping_score  \n",
       "unsicherheit_score                           0.233429  \n",
       "risikowahrnehmung_score                      0.262804  \n",
       "informationsverstaendnissubjektiv_score      0.404534  \n",
       "handlungsbereitschaft_score                  0.498057  \n",
       "coping_score                                 1.000000  "
      ]
     },
     "execution_count": 158,
     "metadata": {},
     "output_type": "execute_result"
    }
   ],
   "source": [
    "ug[[\"unsicherheit_score\", \"risikowahrnehmung_score\", \"informationsverstaendnissubjektiv_score\", \"handlungsbereitschaft_score\", \"coping_score\"]].corr()"
   ]
  },
  {
   "cell_type": "markdown",
   "metadata": {},
   "source": [
    "## Requirement 2: Homogeneity of variance"
   ]
  },
  {
   "cell_type": "code",
   "execution_count": 159,
   "metadata": {},
   "outputs": [
    {
     "data": {
      "text/plain": [
       "293"
      ]
     },
     "execution_count": 159,
     "metadata": {},
     "output_type": "execute_result"
    }
   ],
   "source": [
    "len(all_short)"
   ]
  },
  {
   "cell_type": "code",
   "execution_count": 160,
   "metadata": {},
   "outputs": [
    {
     "data": {
      "text/html": [
       "<div>\n",
       "<style scoped>\n",
       "    .dataframe tbody tr th:only-of-type {\n",
       "        vertical-align: middle;\n",
       "    }\n",
       "\n",
       "    .dataframe tbody tr th {\n",
       "        vertical-align: top;\n",
       "    }\n",
       "\n",
       "    .dataframe thead th {\n",
       "        text-align: right;\n",
       "    }\n",
       "</style>\n",
       "<table border=\"1\" class=\"dataframe\">\n",
       "  <thead>\n",
       "    <tr style=\"text-align: right;\">\n",
       "      <th></th>\n",
       "      <th>U</th>\n",
       "      <th>R</th>\n",
       "      <th>I</th>\n",
       "      <th>H</th>\n",
       "      <th>C</th>\n",
       "      <th>Gruppe</th>\n",
       "    </tr>\n",
       "  </thead>\n",
       "  <tbody>\n",
       "    <tr>\n",
       "      <th>0</th>\n",
       "      <td>2.5</td>\n",
       "      <td>1.7</td>\n",
       "      <td>2.5</td>\n",
       "      <td>2.8</td>\n",
       "      <td>2.7</td>\n",
       "      <td>UG</td>\n",
       "    </tr>\n",
       "    <tr>\n",
       "      <th>1</th>\n",
       "      <td>2.0</td>\n",
       "      <td>2.0</td>\n",
       "      <td>3.7</td>\n",
       "      <td>3.4</td>\n",
       "      <td>1.0</td>\n",
       "      <td>UG</td>\n",
       "    </tr>\n",
       "    <tr>\n",
       "      <th>2</th>\n",
       "      <td>0.0</td>\n",
       "      <td>0.0</td>\n",
       "      <td>4.6</td>\n",
       "      <td>0.0</td>\n",
       "      <td>0.0</td>\n",
       "      <td>UG</td>\n",
       "    </tr>\n",
       "    <tr>\n",
       "      <th>3</th>\n",
       "      <td>3.2</td>\n",
       "      <td>1.7</td>\n",
       "      <td>4.2</td>\n",
       "      <td>3.0</td>\n",
       "      <td>2.5</td>\n",
       "      <td>UG</td>\n",
       "    </tr>\n",
       "    <tr>\n",
       "      <th>4</th>\n",
       "      <td>3.0</td>\n",
       "      <td>0.0</td>\n",
       "      <td>3.4</td>\n",
       "      <td>2.4</td>\n",
       "      <td>2.0</td>\n",
       "      <td>UG</td>\n",
       "    </tr>\n",
       "    <tr>\n",
       "      <th>...</th>\n",
       "      <td>...</td>\n",
       "      <td>...</td>\n",
       "      <td>...</td>\n",
       "      <td>...</td>\n",
       "      <td>...</td>\n",
       "      <td>...</td>\n",
       "    </tr>\n",
       "    <tr>\n",
       "      <th>95</th>\n",
       "      <td>2.8</td>\n",
       "      <td>1.3</td>\n",
       "      <td>4.7</td>\n",
       "      <td>4.0</td>\n",
       "      <td>3.1</td>\n",
       "      <td>KG</td>\n",
       "    </tr>\n",
       "    <tr>\n",
       "      <th>96</th>\n",
       "      <td>1.0</td>\n",
       "      <td>1.7</td>\n",
       "      <td>4.2</td>\n",
       "      <td>3.4</td>\n",
       "      <td>3.1</td>\n",
       "      <td>KG</td>\n",
       "    </tr>\n",
       "    <tr>\n",
       "      <th>97</th>\n",
       "      <td>2.8</td>\n",
       "      <td>1.7</td>\n",
       "      <td>4.4</td>\n",
       "      <td>3.8</td>\n",
       "      <td>2.4</td>\n",
       "      <td>KG</td>\n",
       "    </tr>\n",
       "    <tr>\n",
       "      <th>98</th>\n",
       "      <td>2.2</td>\n",
       "      <td>1.7</td>\n",
       "      <td>4.6</td>\n",
       "      <td>2.2</td>\n",
       "      <td>2.7</td>\n",
       "      <td>KG</td>\n",
       "    </tr>\n",
       "    <tr>\n",
       "      <th>99</th>\n",
       "      <td>1.0</td>\n",
       "      <td>2.7</td>\n",
       "      <td>5.0</td>\n",
       "      <td>4.0</td>\n",
       "      <td>2.9</td>\n",
       "      <td>KG</td>\n",
       "    </tr>\n",
       "  </tbody>\n",
       "</table>\n",
       "<p>293 rows × 6 columns</p>\n",
       "</div>"
      ],
      "text/plain": [
       "      U    R    I    H    C Gruppe\n",
       "0   2.5  1.7  2.5  2.8  2.7     UG\n",
       "1   2.0  2.0  3.7  3.4  1.0     UG\n",
       "2   0.0  0.0  4.6  0.0  0.0     UG\n",
       "3   3.2  1.7  4.2  3.0  2.5     UG\n",
       "4   3.0  0.0  3.4  2.4  2.0     UG\n",
       "..  ...  ...  ...  ...  ...    ...\n",
       "95  2.8  1.3  4.7  4.0  3.1     KG\n",
       "96  1.0  1.7  4.2  3.4  3.1     KG\n",
       "97  2.8  1.7  4.4  3.8  2.4     KG\n",
       "98  2.2  1.7  4.6  2.2  2.7     KG\n",
       "99  1.0  2.7  5.0  4.0  2.9     KG\n",
       "\n",
       "[293 rows x 6 columns]"
      ]
     },
     "execution_count": 160,
     "metadata": {},
     "output_type": "execute_result"
    }
   ],
   "source": [
    "all_short[[\"R\", \"I\", \"H\", \"C\", \"U\"]] = round(all_short[[\"R\", \"I\", \"H\", \"C\", \"U\"]].astype(\"float64\"), 1)\n",
    "all_short"
   ]
  },
  {
   "cell_type": "code",
   "execution_count": 161,
   "metadata": {
    "scrolled": true
   },
   "outputs": [
    {
     "data": {
      "text/html": [
       "<div>\n",
       "<style scoped>\n",
       "    .dataframe tbody tr th:only-of-type {\n",
       "        vertical-align: middle;\n",
       "    }\n",
       "\n",
       "    .dataframe tbody tr th {\n",
       "        vertical-align: top;\n",
       "    }\n",
       "\n",
       "    .dataframe thead th {\n",
       "        text-align: right;\n",
       "    }\n",
       "</style>\n",
       "<table border=\"1\" class=\"dataframe\">\n",
       "  <thead>\n",
       "    <tr style=\"text-align: right;\">\n",
       "      <th></th>\n",
       "      <th>Chi2</th>\n",
       "      <th>df</th>\n",
       "      <th>pval</th>\n",
       "      <th>equal_cov</th>\n",
       "    </tr>\n",
       "  </thead>\n",
       "  <tbody>\n",
       "    <tr>\n",
       "      <th>box</th>\n",
       "      <td>15.852822</td>\n",
       "      <td>15.0</td>\n",
       "      <td>0.3919</td>\n",
       "      <td>True</td>\n",
       "    </tr>\n",
       "  </tbody>\n",
       "</table>\n",
       "</div>"
      ],
      "text/plain": [
       "          Chi2    df    pval  equal_cov\n",
       "box  15.852822  15.0  0.3919       True"
      ]
     },
     "execution_count": 161,
     "metadata": {},
     "output_type": "execute_result"
    }
   ],
   "source": [
    "# Box M test for homogeneity of variance\n",
    "pg.box_m(all_short, dvs=[\"R\", \"I\", \"H\", \"C\", \"U\"], group='Gruppe')"
   ]
  },
  {
   "cell_type": "markdown",
   "metadata": {},
   "source": [
    "## Calculate MANOVA"
   ]
  },
  {
   "cell_type": "code",
   "execution_count": 162,
   "metadata": {},
   "outputs": [],
   "source": [
    "# calculate manova\n",
    "maov = MANOVA.from_formula('U + R + I + H + C  ~ Gruppe', data=all_short)"
   ]
  },
  {
   "cell_type": "code",
   "execution_count": 163,
   "metadata": {
    "scrolled": true
   },
   "outputs": [
    {
     "name": "stdout",
     "output_type": "stream",
     "text": [
      "                   Multivariate linear model\n",
      "===============================================================\n",
      "                                                               \n",
      "---------------------------------------------------------------\n",
      "       Intercept         Value  Num DF  Den DF  F Value  Pr > F\n",
      "---------------------------------------------------------------\n",
      "          Wilks' lambda  0.0866 5.0000 287.0000 605.5562 0.0000\n",
      "         Pillai's trace  0.9134 5.0000 287.0000 605.5562 0.0000\n",
      " Hotelling-Lawley trace 10.5498 5.0000 287.0000 605.5562 0.0000\n",
      "    Roy's greatest root 10.5498 5.0000 287.0000 605.5562 0.0000\n",
      "---------------------------------------------------------------\n",
      "                                                               \n",
      "---------------------------------------------------------------\n",
      "           Gruppe         Value  Num DF  Den DF  F Value Pr > F\n",
      "---------------------------------------------------------------\n",
      "            Wilks' lambda 0.9959 5.0000 287.0000  0.2386 0.9452\n",
      "           Pillai's trace 0.0041 5.0000 287.0000  0.2386 0.9452\n",
      "   Hotelling-Lawley trace 0.0042 5.0000 287.0000  0.2386 0.9452\n",
      "      Roy's greatest root 0.0042 5.0000 287.0000  0.2386 0.9452\n",
      "===============================================================\n",
      "\n"
     ]
    }
   ],
   "source": [
    "print(maov.mv_test())"
   ]
  },
  {
   "cell_type": "markdown",
   "metadata": {},
   "source": [
    "## Calculate ANOVA"
   ]
  },
  {
   "cell_type": "code",
   "execution_count": 171,
   "metadata": {},
   "outputs": [],
   "source": [
    "# use shortcuts to investigate each single score\n",
    "# U = Uncertainty\n",
    "# R = Conditional risk perception\n",
    "# I = Information comprehension\n",
    "# H = Behavioral intention\n",
    "# C = Perceived efficacy"
   ]
  },
  {
   "cell_type": "code",
   "execution_count": 214,
   "metadata": {},
   "outputs": [],
   "source": [
    "# define the score to be investigated\n",
    "x = \"I\""
   ]
  },
  {
   "cell_type": "code",
   "execution_count": 215,
   "metadata": {},
   "outputs": [
    {
     "name": "stdout",
     "output_type": "stream",
     "text": [
      "Since the p-value is bigger than the defined alpha level, the null hypothesis (that the median of the populations are equal) is accepted. P-value:  0.761917087312042\n"
     ]
    }
   ],
   "source": [
    "stat, p = f_oneway(eg_short[x], cg_short[x])\n",
    "# interpret\n",
    "alpha = 0.1\n",
    "if p > alpha:\n",
    "\tprint('Since the p-value is bigger than the defined alpha level, the null hypothesis (that the median of the populations are equal) is accepted. P-value: ', p)\n",
    "else:\n",
    "\tprint('Since the p-value is lower than the defined alpha level, the null hypothesis (that the median of the populations are equal) will be rejected. P-value: ', p)"
   ]
  },
  {
   "cell_type": "code",
   "execution_count": 216,
   "metadata": {},
   "outputs": [
    {
     "data": {
      "text/html": [
       "<div>\n",
       "<style scoped>\n",
       "    .dataframe tbody tr th:only-of-type {\n",
       "        vertical-align: middle;\n",
       "    }\n",
       "\n",
       "    .dataframe tbody tr th {\n",
       "        vertical-align: top;\n",
       "    }\n",
       "\n",
       "    .dataframe thead th {\n",
       "        text-align: right;\n",
       "    }\n",
       "</style>\n",
       "<table border=\"1\" class=\"dataframe\">\n",
       "  <thead>\n",
       "    <tr style=\"text-align: right;\">\n",
       "      <th></th>\n",
       "      <th>Source</th>\n",
       "      <th>SS</th>\n",
       "      <th>DF</th>\n",
       "      <th>MS</th>\n",
       "      <th>F</th>\n",
       "      <th>p-unc</th>\n",
       "      <th>np2</th>\n",
       "    </tr>\n",
       "  </thead>\n",
       "  <tbody>\n",
       "    <tr>\n",
       "      <th>0</th>\n",
       "      <td>Gruppe</td>\n",
       "      <td>0.069564</td>\n",
       "      <td>1</td>\n",
       "      <td>0.069564</td>\n",
       "      <td>0.09196</td>\n",
       "      <td>0.761917</td>\n",
       "      <td>0.000316</td>\n",
       "    </tr>\n",
       "    <tr>\n",
       "      <th>1</th>\n",
       "      <td>Within</td>\n",
       "      <td>220.131664</td>\n",
       "      <td>291</td>\n",
       "      <td>0.756466</td>\n",
       "      <td>NaN</td>\n",
       "      <td>NaN</td>\n",
       "      <td>NaN</td>\n",
       "    </tr>\n",
       "  </tbody>\n",
       "</table>\n",
       "</div>"
      ],
      "text/plain": [
       "   Source          SS   DF        MS        F     p-unc       np2\n",
       "0  Gruppe    0.069564    1  0.069564  0.09196  0.761917  0.000316\n",
       "1  Within  220.131664  291  0.756466      NaN       NaN       NaN"
      ]
     },
     "execution_count": 216,
     "metadata": {},
     "output_type": "execute_result"
    }
   ],
   "source": [
    "pg.anova(dv=x, between='Gruppe', data=all_short,\n",
    "               detailed=True)"
   ]
  },
  {
   "cell_type": "code",
   "execution_count": 217,
   "metadata": {
    "scrolled": false
   },
   "outputs": [
    {
     "name": "stdout",
     "output_type": "stream",
     "text": [
      "\n",
      "\n"
     ]
    },
    {
     "data": {
      "text/html": [
       "<div>\n",
       "<style scoped>\n",
       "    .dataframe tbody tr th:only-of-type {\n",
       "        vertical-align: middle;\n",
       "    }\n",
       "\n",
       "    .dataframe tbody tr th {\n",
       "        vertical-align: top;\n",
       "    }\n",
       "\n",
       "    .dataframe thead th {\n",
       "        text-align: right;\n",
       "    }\n",
       "</style>\n",
       "<table border=\"1\" class=\"dataframe\">\n",
       "  <thead>\n",
       "    <tr style=\"text-align: right;\">\n",
       "      <th></th>\n",
       "      <th>N</th>\n",
       "      <th>Mean</th>\n",
       "      <th>SD</th>\n",
       "      <th>SE</th>\n",
       "      <th>95% Conf.</th>\n",
       "      <th>Interval</th>\n",
       "    </tr>\n",
       "    <tr>\n",
       "      <th>Gruppe</th>\n",
       "      <th></th>\n",
       "      <th></th>\n",
       "      <th></th>\n",
       "      <th></th>\n",
       "      <th></th>\n",
       "      <th></th>\n",
       "    </tr>\n",
       "  </thead>\n",
       "  <tbody>\n",
       "    <tr>\n",
       "      <th>KG</th>\n",
       "      <td>100</td>\n",
       "      <td>4.1040</td>\n",
       "      <td>0.8717</td>\n",
       "      <td>0.0872</td>\n",
       "      <td>3.9310</td>\n",
       "      <td>4.2770</td>\n",
       "    </tr>\n",
       "    <tr>\n",
       "      <th>UG</th>\n",
       "      <td>193</td>\n",
       "      <td>4.0715</td>\n",
       "      <td>0.8688</td>\n",
       "      <td>0.0625</td>\n",
       "      <td>3.9482</td>\n",
       "      <td>4.1948</td>\n",
       "    </tr>\n",
       "  </tbody>\n",
       "</table>\n",
       "</div>"
      ],
      "text/plain": [
       "          N    Mean      SD      SE  95% Conf.  Interval\n",
       "Gruppe                                                  \n",
       "KG      100  4.1040  0.8717  0.0872     3.9310    4.2770\n",
       "UG      193  4.0715  0.8688  0.0625     3.9482    4.1948"
      ]
     },
     "execution_count": 217,
     "metadata": {},
     "output_type": "execute_result"
    }
   ],
   "source": [
    "rp.summary_cont(all_short[x].groupby(all_short['Gruppe']))\n"
   ]
  },
  {
   "cell_type": "code",
   "execution_count": 218,
   "metadata": {
    "scrolled": true
   },
   "outputs": [
    {
     "data": {
      "text/plain": [
       "0.09195972037075179"
      ]
     },
     "execution_count": 218,
     "metadata": {},
     "output_type": "execute_result"
    }
   ],
   "source": [
    "stat"
   ]
  },
  {
   "cell_type": "code",
   "execution_count": 219,
   "metadata": {},
   "outputs": [
    {
     "data": {
      "text/plain": [
       "0.761917087312042"
      ]
     },
     "execution_count": 219,
     "metadata": {},
     "output_type": "execute_result"
    }
   ],
   "source": [
    "p"
   ]
  }
 ],
 "metadata": {
  "kernelspec": {
   "display_name": "Python 3 (ipykernel)",
   "language": "python",
   "name": "python3"
  },
  "language_info": {
   "codemirror_mode": {
    "name": "ipython",
    "version": 3
   },
   "file_extension": ".py",
   "mimetype": "text/x-python",
   "name": "python",
   "nbconvert_exporter": "python",
   "pygments_lexer": "ipython3",
   "version": "3.8.5"
  }
 },
 "nbformat": 4,
 "nbformat_minor": 4
}
