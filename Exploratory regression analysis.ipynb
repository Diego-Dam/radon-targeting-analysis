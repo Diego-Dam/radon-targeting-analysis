{
 "cells": [
  {
   "cell_type": "markdown",
   "metadata": {
    "colab_type": "text",
    "id": "CazISR8X_HUG"
   },
   "source": [
    "# Exploratory regression - Scores"
   ]
  },
  {
   "cell_type": "markdown",
   "metadata": {
    "colab_type": "text",
    "id": "pOyqYHTk_Q57"
   },
   "source": [
    "## Importing the libraries"
   ]
  },
  {
   "cell_type": "code",
   "execution_count": 27,
   "metadata": {
    "colab": {},
    "colab_type": "code",
    "id": "T_YHJjnD_Tja"
   },
   "outputs": [],
   "source": [
    "import numpy as np\n",
    "import matplotlib.pyplot as plt\n",
    "import pandas as pd\n",
    "from pygam import GAM, LinearGAM, InvGaussGAM\n",
    "import matplotlib.pyplot as plt\n",
    "from mpl_toolkits import mplot3d"
   ]
  },
  {
   "cell_type": "markdown",
   "metadata": {
    "colab_type": "text",
    "id": "vgC61-ah_WIz"
   },
   "source": [
    "\n",
    "## Importing the dataset"
   ]
  },
  {
   "cell_type": "code",
   "execution_count": 28,
   "metadata": {},
   "outputs": [],
   "source": [
    "# import the data\n",
    "# cg = control group\n",
    "# eg = experimental group\n",
    "cg = pd.read_csv(\"05-12-2021_kontrollgruppe_df.csv\", index_col=0) \n",
    "eg = pd.read_csv(\"05-12-2021_untersuchungsgruppe_df.csv\", index_col=0)"
   ]
  },
  {
   "cell_type": "markdown",
   "metadata": {},
   "source": [
    "###  Select the relevant variables"
   ]
  },
  {
   "cell_type": "code",
   "execution_count": 29,
   "metadata": {},
   "outputs": [],
   "source": [
    "# handlungsbereitschaft_score = behavioral intention score\n",
    "indep_var = \"handlungsbereitschaft_score\""
   ]
  },
  {
   "cell_type": "code",
   "execution_count": 30,
   "metadata": {},
   "outputs": [],
   "source": [
    "# list of independent (x) variables\n",
    "x_variables = ['SD01',\n",
    "'SD02_01',\n",
    "'SD04',\n",
    "'SD06',\n",
    "'SD07',\n",
    "'HI01',\n",
    "'HI03',\n",
    "'HI04',\n",
    "'HI05',\n",
    "'HI06',\n",
    "'VR01',\n",
    "'VR06',\n",
    "'K001', indep_var]"
   ]
  },
  {
   "cell_type": "markdown",
   "metadata": {},
   "source": [
    "### Aggregated values of variables with small n and remove keine Angabe (no answer)"
   ]
  },
  {
   "cell_type": "code",
   "execution_count": 31,
   "metadata": {},
   "outputs": [],
   "source": [
    "# explore variables where an aggregation is needed\n",
    "key = 'VR01'"
   ]
  },
  {
   "cell_type": "code",
   "execution_count": 32,
   "metadata": {},
   "outputs": [
    {
     "data": {
      "text/plain": [
       "Ja      100\n",
       "Nein     93\n",
       "Name: VR01, dtype: int64"
      ]
     },
     "execution_count": 32,
     "metadata": {},
     "output_type": "execute_result"
    }
   ],
   "source": [
    "eg[key].value_counts()"
   ]
  },
  {
   "cell_type": "code",
   "execution_count": 33,
   "metadata": {},
   "outputs": [
    {
     "data": {
      "text/plain": [
       "Ja      53\n",
       "Nein    47\n",
       "Name: VR01, dtype: int64"
      ]
     },
     "execution_count": 33,
     "metadata": {},
     "output_type": "execute_result"
    }
   ],
   "source": [
    "cg[key].value_counts()"
   ]
  },
  {
   "cell_type": "markdown",
   "metadata": {},
   "source": [
    "##### SD01 > Remove one entry with Keine Angabe"
   ]
  },
  {
   "cell_type": "code",
   "execution_count": 34,
   "metadata": {},
   "outputs": [],
   "source": [
    "cg = cg[cg['SD01'] != \"Keine Angabe\"]"
   ]
  },
  {
   "cell_type": "code",
   "execution_count": 35,
   "metadata": {},
   "outputs": [
    {
     "data": {
      "text/plain": [
       "Männlich    103\n",
       "Weiblich     90\n",
       "Name: SD01, dtype: int64"
      ]
     },
     "execution_count": 35,
     "metadata": {},
     "output_type": "execute_result"
    }
   ],
   "source": [
    "eg.SD01.value_counts()"
   ]
  },
  {
   "cell_type": "code",
   "execution_count": 36,
   "metadata": {},
   "outputs": [
    {
     "data": {
      "text/plain": [
       "Weiblich    50\n",
       "Männlich    49\n",
       "Name: SD01, dtype: int64"
      ]
     },
     "execution_count": 36,
     "metadata": {},
     "output_type": "execute_result"
    }
   ],
   "source": [
    "cg.SD01.value_counts()"
   ]
  },
  {
   "cell_type": "markdown",
   "metadata": {},
   "source": [
    "##### SD04 > (1) Condensate Schulabschluss (high school diploma), Schule beendet ohne Abschluss (School finished without diploma) and Sonstiges (further) for eg and cg, (2) remove one Keine Angabe from eg"
   ]
  },
  {
   "cell_type": "code",
   "execution_count": 37,
   "metadata": {},
   "outputs": [],
   "source": [
    "# Maximal Schulabschluß und sonstiges = No more than high school diploma"
   ]
  },
  {
   "cell_type": "code",
   "execution_count": 38,
   "metadata": {},
   "outputs": [],
   "source": [
    "eg[\"SD04\"] = eg[\"SD04\"].replace(\"Sonstiges\", \"Maximal Schulabschluß und sonstiges\")"
   ]
  },
  {
   "cell_type": "code",
   "execution_count": 39,
   "metadata": {},
   "outputs": [],
   "source": [
    "cg[\"SD04\"] = cg[\"SD04\"].replace(\"Sonstiges\", \"Maximal Schulabschluß und sonstiges\")"
   ]
  },
  {
   "cell_type": "code",
   "execution_count": 40,
   "metadata": {},
   "outputs": [],
   "source": [
    "eg[\"SD04\"] = eg[\"SD04\"].replace(\"Schule beendet ohne Abschluss\", \"Maximal Schulabschluß und sonstiges\")"
   ]
  },
  {
   "cell_type": "code",
   "execution_count": 41,
   "metadata": {},
   "outputs": [],
   "source": [
    "cg[\"SD04\"] = cg[\"SD04\"].replace(\"Schule beendet ohne Abschluss\", \"Maximal Schulabschluß und sonstiges\")"
   ]
  },
  {
   "cell_type": "code",
   "execution_count": 42,
   "metadata": {},
   "outputs": [],
   "source": [
    "eg[\"SD04\"] = eg[\"SD04\"].replace(\"Schulabschluß\", \"Maximal Schulabschluß und sonstiges\")"
   ]
  },
  {
   "cell_type": "code",
   "execution_count": 43,
   "metadata": {},
   "outputs": [],
   "source": [
    "cg[\"SD04\"] = cg[\"SD04\"].replace(\"Schulabschluß\", \"Maximal Schulabschluß und sonstiges\")"
   ]
  },
  {
   "cell_type": "code",
   "execution_count": 44,
   "metadata": {},
   "outputs": [],
   "source": [
    "eg = eg[eg['SD04'] != \"Keine Angabe\"]"
   ]
  },
  {
   "cell_type": "code",
   "execution_count": 45,
   "metadata": {},
   "outputs": [
    {
     "data": {
      "text/plain": [
       "Ausbildung                             109\n",
       "Hochschulabschluß                       54\n",
       "Maximal Schulabschluß und sonstiges     29\n",
       "Name: SD04, dtype: int64"
      ]
     },
     "execution_count": 45,
     "metadata": {},
     "output_type": "execute_result"
    }
   ],
   "source": [
    "eg.SD04.value_counts()"
   ]
  },
  {
   "cell_type": "code",
   "execution_count": 46,
   "metadata": {},
   "outputs": [
    {
     "data": {
      "text/plain": [
       "Ausbildung                             52\n",
       "Hochschulabschluß                      36\n",
       "Maximal Schulabschluß und sonstiges    11\n",
       "Name: SD04, dtype: int64"
      ]
     },
     "execution_count": 46,
     "metadata": {},
     "output_type": "execute_result"
    }
   ],
   "source": [
    "cg.SD04.value_counts()"
   ]
  },
  {
   "cell_type": "markdown",
   "metadata": {},
   "source": [
    "##### SD06 > (1) Remove one Keine Angabe from eg and (2) add friendly labels"
   ]
  },
  {
   "cell_type": "code",
   "execution_count": 54,
   "metadata": {},
   "outputs": [],
   "source": [
    "# Keine Kinder = no children\n",
    "# hat Kinder = has children"
   ]
  },
  {
   "cell_type": "code",
   "execution_count": 47,
   "metadata": {},
   "outputs": [],
   "source": [
    "eg = eg[eg['SD06'] != \"Keine Angabe\"]"
   ]
  },
  {
   "cell_type": "code",
   "execution_count": 48,
   "metadata": {},
   "outputs": [],
   "source": [
    "eg[\"SD06\"] = eg[\"SD06\"].replace(\"Nein\", \"Keine Kinder\")"
   ]
  },
  {
   "cell_type": "code",
   "execution_count": 49,
   "metadata": {},
   "outputs": [],
   "source": [
    "eg[\"SD06\"] = eg[\"SD06\"].replace(\"Ja\", \"hat Kinder\")"
   ]
  },
  {
   "cell_type": "code",
   "execution_count": 50,
   "metadata": {},
   "outputs": [],
   "source": [
    "cg[\"SD06\"] = cg[\"SD06\"].replace(\"Nein\", \"Keine Kinder\")"
   ]
  },
  {
   "cell_type": "code",
   "execution_count": 51,
   "metadata": {},
   "outputs": [],
   "source": [
    "cg[\"SD06\"] = cg[\"SD06\"].replace(\"Ja\", \"hat Kinder\")"
   ]
  },
  {
   "cell_type": "code",
   "execution_count": 52,
   "metadata": {},
   "outputs": [
    {
     "data": {
      "text/plain": [
       "Keine Kinder    151\n",
       "hat Kinder       41\n",
       "Name: SD06, dtype: int64"
      ]
     },
     "execution_count": 52,
     "metadata": {},
     "output_type": "execute_result"
    }
   ],
   "source": [
    "eg.SD06.value_counts()"
   ]
  },
  {
   "cell_type": "code",
   "execution_count": 53,
   "metadata": {},
   "outputs": [
    {
     "data": {
      "text/plain": [
       "Keine Kinder    82\n",
       "hat Kinder      17\n",
       "Name: SD06, dtype: int64"
      ]
     },
     "execution_count": 53,
     "metadata": {},
     "output_type": "execute_result"
    }
   ],
   "source": [
    "cg.SD06.value_counts()"
   ]
  },
  {
   "cell_type": "markdown",
   "metadata": {},
   "source": [
    "##### SD06 > (1) Remove one Keine Angabe from eg and (2) add friendly labels"
   ]
  },
  {
   "cell_type": "code",
   "execution_count": 56,
   "metadata": {},
   "outputs": [],
   "source": [
    "# Raucher*in = smoker\n",
    "# Kein* Raucher*in = no smoker"
   ]
  },
  {
   "cell_type": "code",
   "execution_count": 57,
   "metadata": {},
   "outputs": [],
   "source": [
    "eg[\"SD07\"] = eg[\"SD07\"].replace(\"Ja\", \"Raucher*in\")"
   ]
  },
  {
   "cell_type": "code",
   "execution_count": 58,
   "metadata": {},
   "outputs": [],
   "source": [
    "cg[\"SD07\"] = cg[\"SD07\"].replace(\"Ja\", \"Raucher*in\")"
   ]
  },
  {
   "cell_type": "code",
   "execution_count": 59,
   "metadata": {},
   "outputs": [],
   "source": [
    "eg[\"SD07\"] = eg[\"SD07\"].replace(\"Nein\", \"Kein* Raucher*in\")"
   ]
  },
  {
   "cell_type": "code",
   "execution_count": 60,
   "metadata": {},
   "outputs": [],
   "source": [
    "cg[\"SD07\"] = cg[\"SD07\"].replace(\"Nein\", \"Kein* Raucher*in\")"
   ]
  },
  {
   "cell_type": "code",
   "execution_count": 61,
   "metadata": {},
   "outputs": [
    {
     "data": {
      "text/plain": [
       "Kein* Raucher*in    125\n",
       "Raucher*in           67\n",
       "Name: SD07, dtype: int64"
      ]
     },
     "execution_count": 61,
     "metadata": {},
     "output_type": "execute_result"
    }
   ],
   "source": [
    "eg.SD07.value_counts()"
   ]
  },
  {
   "cell_type": "code",
   "execution_count": 62,
   "metadata": {},
   "outputs": [
    {
     "data": {
      "text/plain": [
       "Kein* Raucher*in    65\n",
       "Raucher*in          34\n",
       "Name: SD07, dtype: int64"
      ]
     },
     "execution_count": 62,
     "metadata": {},
     "output_type": "execute_result"
    }
   ],
   "source": [
    "cg.SD07.value_counts()"
   ]
  },
  {
   "cell_type": "markdown",
   "metadata": {},
   "source": [
    "##### HI05 > Remove one Keine Angabe from eg and two keine Angabe from cg"
   ]
  },
  {
   "cell_type": "code",
   "execution_count": 63,
   "metadata": {},
   "outputs": [],
   "source": [
    "eg = eg[eg['HI05'] != \"Keine Angabe\"]"
   ]
  },
  {
   "cell_type": "code",
   "execution_count": 64,
   "metadata": {},
   "outputs": [],
   "source": [
    "cg = cg[cg['HI05'] != \"Keine Angabe\"]"
   ]
  },
  {
   "cell_type": "code",
   "execution_count": 67,
   "metadata": {
    "scrolled": true
   },
   "outputs": [
    {
     "data": {
      "text/plain": [
       "länger als 10 Jahre    143\n",
       "0 bis 5 Jahres          31\n",
       "6 bis 10 Jahre          17\n",
       "Name: HI05, dtype: int64"
      ]
     },
     "execution_count": 67,
     "metadata": {},
     "output_type": "execute_result"
    }
   ],
   "source": [
    "eg.HI05.value_counts()"
   ]
  },
  {
   "cell_type": "code",
   "execution_count": 68,
   "metadata": {},
   "outputs": [],
   "source": [
    "# länger als 10 Jahre = more than 10 yrs\n",
    "# 0 bis 5 Jahres = 0 to 5 yrs\n",
    "# 6 bis 10 Jahres = 6 to 10 yrs"
   ]
  },
  {
   "cell_type": "code",
   "execution_count": 69,
   "metadata": {},
   "outputs": [
    {
     "data": {
      "text/plain": [
       "länger als 10 Jahre    65\n",
       "0 bis 5 Jahres         19\n",
       "6 bis 10 Jahre         13\n",
       "Name: HI05, dtype: int64"
      ]
     },
     "execution_count": 69,
     "metadata": {},
     "output_type": "execute_result"
    }
   ],
   "source": [
    "cg.HI05.value_counts()"
   ]
  },
  {
   "cell_type": "markdown",
   "metadata": {},
   "source": [
    "##### HI06 > (1) Condensate Erdgeschoß und Souterrain, (2) Remove 8 Keine Angabe from cg"
   ]
  },
  {
   "cell_type": "code",
   "execution_count": 71,
   "metadata": {},
   "outputs": [],
   "source": [
    "# Erdgeschoß = ground-floor\n",
    "# Souterrain = basement"
   ]
  },
  {
   "cell_type": "code",
   "execution_count": 72,
   "metadata": {},
   "outputs": [],
   "source": [
    "eg[\"HI06\"] = eg[\"HI06\"].replace(\"Erdgeschoß\", \"Erdgeschoß/Souterrain\")"
   ]
  },
  {
   "cell_type": "code",
   "execution_count": 73,
   "metadata": {},
   "outputs": [],
   "source": [
    "eg[\"HI06\"] = eg[\"HI06\"].replace(\"Souterrain\", \"Erdgeschoß/Souterrain\")"
   ]
  },
  {
   "cell_type": "code",
   "execution_count": 74,
   "metadata": {},
   "outputs": [],
   "source": [
    "cg[\"HI06\"] = cg[\"HI06\"].replace(\"Erdgeschoß\", \"Erdgeschoß/Souterrain\")"
   ]
  },
  {
   "cell_type": "code",
   "execution_count": 75,
   "metadata": {},
   "outputs": [],
   "source": [
    "cg[\"HI06\"] = cg[\"HI06\"].replace(\"Souterrain\", \"Erdgeschoß/Souterrain\")"
   ]
  },
  {
   "cell_type": "code",
   "execution_count": 76,
   "metadata": {},
   "outputs": [],
   "source": [
    "cg = cg[cg['HI06'] != \"Keine Angabe\"]"
   ]
  },
  {
   "cell_type": "code",
   "execution_count": 77,
   "metadata": {},
   "outputs": [
    {
     "data": {
      "text/plain": [
       "Erdgeschoß/Souterrain    79\n",
       "1. Etage                 59\n",
       "2. Etage oder höher      53\n",
       "Name: HI06, dtype: int64"
      ]
     },
     "execution_count": 77,
     "metadata": {},
     "output_type": "execute_result"
    }
   ],
   "source": [
    "eg.HI06.value_counts()"
   ]
  },
  {
   "cell_type": "code",
   "execution_count": 78,
   "metadata": {},
   "outputs": [
    {
     "data": {
      "text/plain": [
       "2. Etage oder höher      32\n",
       "Erdgeschoß/Souterrain    31\n",
       "1. Etage                 26\n",
       "Name: HI06, dtype: int64"
      ]
     },
     "execution_count": 78,
     "metadata": {},
     "output_type": "execute_result"
    }
   ],
   "source": [
    "cg.HI06.value_counts()"
   ]
  },
  {
   "cell_type": "markdown",
   "metadata": {},
   "source": [
    "##### HI01 > Friendly labels"
   ]
  },
  {
   "cell_type": "code",
   "execution_count": 79,
   "metadata": {},
   "outputs": [],
   "source": [
    "eg[\"HI01\"] = eg[\"HI01\"].replace(\"Ich wohne zur Miete.\", \"Mieter*in\")"
   ]
  },
  {
   "cell_type": "code",
   "execution_count": 80,
   "metadata": {},
   "outputs": [],
   "source": [
    "cg[\"HI01\"] = cg[\"HI01\"].replace(\"Ich wohne zur Miete.\", \"Mieter*in\")"
   ]
  },
  {
   "cell_type": "code",
   "execution_count": 81,
   "metadata": {},
   "outputs": [],
   "source": [
    "eg[\"HI01\"] = eg[\"HI01\"].replace(\"Ich wohne im eigenen Haus bzw. in der eigenen Wohnung.\", \"Eigentümer*in\")"
   ]
  },
  {
   "cell_type": "code",
   "execution_count": 82,
   "metadata": {},
   "outputs": [],
   "source": [
    "cg[\"HI01\"] = cg[\"HI01\"].replace(\"Ich wohne im eigenen Haus bzw. in der eigenen Wohnung.\", \"Eigentümer*in\")"
   ]
  },
  {
   "cell_type": "code",
   "execution_count": 83,
   "metadata": {},
   "outputs": [
    {
     "data": {
      "text/plain": [
       "Eigentümer*in    96\n",
       "Mieter*in        95\n",
       "Name: HI01, dtype: int64"
      ]
     },
     "execution_count": 83,
     "metadata": {},
     "output_type": "execute_result"
    }
   ],
   "source": [
    "eg.HI01.value_counts()"
   ]
  },
  {
   "cell_type": "code",
   "execution_count": 84,
   "metadata": {},
   "outputs": [
    {
     "data": {
      "text/plain": [
       "Mieter*in        56\n",
       "Eigentümer*in    33\n",
       "Name: HI01, dtype: int64"
      ]
     },
     "execution_count": 84,
     "metadata": {},
     "output_type": "execute_result"
    }
   ],
   "source": [
    "cg.HI01.value_counts()"
   ]
  },
  {
   "cell_type": "markdown",
   "metadata": {},
   "source": [
    "##### VR01 > Friendly labels"
   ]
  },
  {
   "cell_type": "code",
   "execution_count": 85,
   "metadata": {},
   "outputs": [],
   "source": [
    "eg[\"VR01\"] = eg[\"VR01\"].replace(\"Ja\", \"kennt Radon\")"
   ]
  },
  {
   "cell_type": "code",
   "execution_count": 86,
   "metadata": {},
   "outputs": [],
   "source": [
    "cg[\"VR01\"] = cg[\"VR01\"].replace(\"Ja\", \"kennt Radon\")"
   ]
  },
  {
   "cell_type": "code",
   "execution_count": 87,
   "metadata": {},
   "outputs": [],
   "source": [
    "eg[\"VR01\"] = eg[\"VR01\"].replace(\"Nein\", \"kennt Radon nicht\")"
   ]
  },
  {
   "cell_type": "code",
   "execution_count": 88,
   "metadata": {},
   "outputs": [],
   "source": [
    "cg[\"VR01\"] = cg[\"VR01\"].replace(\"Nein\", \"kennt Radon nicht\")"
   ]
  },
  {
   "cell_type": "code",
   "execution_count": 89,
   "metadata": {},
   "outputs": [
    {
     "data": {
      "text/plain": [
       "kennt Radon          99\n",
       "kennt Radon nicht    92\n",
       "Name: VR01, dtype: int64"
      ]
     },
     "execution_count": 89,
     "metadata": {},
     "output_type": "execute_result"
    }
   ],
   "source": [
    "eg.VR01.value_counts()"
   ]
  },
  {
   "cell_type": "code",
   "execution_count": 90,
   "metadata": {},
   "outputs": [
    {
     "data": {
      "text/plain": [
       "kennt Radon          45\n",
       "kennt Radon nicht    44\n",
       "Name: VR01, dtype: int64"
      ]
     },
     "execution_count": 90,
     "metadata": {},
     "output_type": "execute_result"
    }
   ],
   "source": [
    "cg.VR01.value_counts()"
   ]
  },
  {
   "cell_type": "markdown",
   "metadata": {},
   "source": [
    "##### VR06 > (1) Remove 2 Keine Angabe from eg, (2) and substitute with friendly label"
   ]
  },
  {
   "cell_type": "code",
   "execution_count": 91,
   "metadata": {},
   "outputs": [],
   "source": [
    "eg = eg[eg['VR06'] != \"Keine Angabe\"]"
   ]
  },
  {
   "cell_type": "code",
   "execution_count": 92,
   "metadata": {},
   "outputs": [],
   "source": [
    "eg[\"VR06\"] = eg[\"VR06\"].replace(\"Ja\", \"kennt BfS\")"
   ]
  },
  {
   "cell_type": "code",
   "execution_count": 93,
   "metadata": {},
   "outputs": [],
   "source": [
    "cg[\"VR06\"] = cg[\"VR06\"].replace(\"Ja\", \"kennt BfS\")"
   ]
  },
  {
   "cell_type": "code",
   "execution_count": 94,
   "metadata": {},
   "outputs": [],
   "source": [
    "eg[\"VR06\"] = eg[\"VR06\"].replace(\"Nein\", \"kennt BfS nicht\")"
   ]
  },
  {
   "cell_type": "code",
   "execution_count": 95,
   "metadata": {},
   "outputs": [],
   "source": [
    "cg[\"VR06\"] = cg[\"VR06\"].replace(\"Nein\", \"kennt BfS nicht\")"
   ]
  },
  {
   "cell_type": "code",
   "execution_count": 96,
   "metadata": {},
   "outputs": [
    {
     "data": {
      "text/plain": [
       "kennt BfS          156\n",
       "kennt BfS nicht     33\n",
       "Name: VR06, dtype: int64"
      ]
     },
     "execution_count": 96,
     "metadata": {},
     "output_type": "execute_result"
    }
   ],
   "source": [
    "eg.VR06.value_counts()"
   ]
  },
  {
   "cell_type": "code",
   "execution_count": 97,
   "metadata": {},
   "outputs": [
    {
     "data": {
      "text/plain": [
       "kennt BfS          75\n",
       "kennt BfS nicht    14\n",
       "Name: VR06, dtype: int64"
      ]
     },
     "execution_count": 97,
     "metadata": {},
     "output_type": "execute_result"
    }
   ],
   "source": [
    "cg.VR06.value_counts()"
   ]
  },
  {
   "cell_type": "markdown",
   "metadata": {},
   "source": [
    "##### Unify RG01 and RG02 for the eg"
   ]
  },
  {
   "cell_type": "code",
   "execution_count": 98,
   "metadata": {},
   "outputs": [
    {
     "data": {
      "text/plain": [
       "array(['nanIch wohne angrenzend zu einem Radon-Gebiet bzw. durchschnittlich zeigen die Messungen vor Ort Werte unter dem Referenzwert von 100 kBq/m3 an.',\n",
       "       'nanIch wohne in einem Radon-Gebiet bzw. durchschnittlich zeigen die Messungen vor Ort Werte über dem Referenzwert von 100 kBq/m3 an.',\n",
       "       'Ich wohne angrenzend zu einem Radon-Gebiet bzw. durchschnittlich zeigen die Messungen vor Ort Werte unter dem Referenzwert von 100 kBq/m3 an.nan',\n",
       "       'Ich wohne in einem Radon-Gebiet bzw. durchschnittlich zeigen die Messungen vor Ort Werte über dem Referenzwert von 100 kBq/m3 an.nan'],\n",
       "      dtype=object)"
      ]
     },
     "execution_count": 98,
     "metadata": {},
     "output_type": "execute_result"
    }
   ],
   "source": [
    "eg['K001'] = eg['RG01'].astype(str) + eg['RG02'].astype(str)\n",
    "eg['K001'].unique()"
   ]
  },
  {
   "cell_type": "code",
   "execution_count": 99,
   "metadata": {},
   "outputs": [],
   "source": [
    "eg[\"K001\"] = eg[\"K001\"].replace(\"nanIch wohne angrenzend zu einem Radon-Gebiet bzw. durchschnittlich zeigen die Messungen vor Ort Werte unter dem Referenzwert von 100 kBq/m3 an.\", \"Angrenzend\")"
   ]
  },
  {
   "cell_type": "code",
   "execution_count": 100,
   "metadata": {},
   "outputs": [],
   "source": [
    "eg[\"K001\"] = eg[\"K001\"].replace(\"Ich wohne angrenzend zu einem Radon-Gebiet bzw. durchschnittlich zeigen die Messungen vor Ort Werte unter dem Referenzwert von 100 kBq/m3 an.nan\", \"Angrenzend\")"
   ]
  },
  {
   "cell_type": "code",
   "execution_count": 101,
   "metadata": {},
   "outputs": [],
   "source": [
    "eg[\"K001\"] = eg[\"K001\"].replace(\"nanIch wohne in einem Radon-Gebiet bzw. durchschnittlich zeigen die Messungen vor Ort Werte über dem Referenzwert von 100 kBq/m3 an.\", \"Radon-Gebiet\")"
   ]
  },
  {
   "cell_type": "code",
   "execution_count": 102,
   "metadata": {},
   "outputs": [],
   "source": [
    "eg[\"K001\"] = eg[\"K001\"].replace(\"Ich wohne in einem Radon-Gebiet bzw. durchschnittlich zeigen die Messungen vor Ort Werte über dem Referenzwert von 100 kBq/m3 an.nan\", \"Radon-Gebiet\")"
   ]
  },
  {
   "cell_type": "code",
   "execution_count": 103,
   "metadata": {},
   "outputs": [
    {
     "data": {
      "text/plain": [
       "Angrenzend      109\n",
       "Radon-Gebiet     80\n",
       "Name: K001, dtype: int64"
      ]
     },
     "execution_count": 103,
     "metadata": {},
     "output_type": "execute_result"
    }
   ],
   "source": [
    "eg[\"K001\"].value_counts()"
   ]
  },
  {
   "cell_type": "markdown",
   "metadata": {},
   "source": [
    "##### Friendly labels for K001 in the cg"
   ]
  },
  {
   "cell_type": "code",
   "execution_count": 104,
   "metadata": {},
   "outputs": [],
   "source": [
    "cg[\"K001\"] = cg[\"K001\"].replace(\"Ich wohne angrenzend zu einem Radon-Gebiet bzw. durchschnittlich zeigen die Messungen vor Ort Werte unter dem Referenzwert von 100 kBq/m3 an.\", \"Angrenzend\")"
   ]
  },
  {
   "cell_type": "code",
   "execution_count": 105,
   "metadata": {},
   "outputs": [],
   "source": [
    "cg[\"K001\"] = cg[\"K001\"].replace(\"Ich wohne in einem Radon-Gebiet bzw. durchschnittlich zeigen die Messungen vor Ort Werte über dem Referenzwert von 100 kBq/m3 an.\", \"Radon-Gebiet\")"
   ]
  },
  {
   "cell_type": "code",
   "execution_count": 106,
   "metadata": {},
   "outputs": [
    {
     "data": {
      "text/plain": [
       "Angrenzend      54\n",
       "Radon-Gebiet    35\n",
       "Name: K001, dtype: int64"
      ]
     },
     "execution_count": 106,
     "metadata": {},
     "output_type": "execute_result"
    }
   ],
   "source": [
    "cg[\"K001\"].value_counts()"
   ]
  },
  {
   "cell_type": "markdown",
   "metadata": {},
   "source": [
    "##### Check new df length"
   ]
  },
  {
   "cell_type": "code",
   "execution_count": 107,
   "metadata": {},
   "outputs": [
    {
     "data": {
      "text/plain": [
       "(189, 89)"
      ]
     },
     "execution_count": 107,
     "metadata": {},
     "output_type": "execute_result"
    }
   ],
   "source": [
    "len(eg), len(cg)"
   ]
  },
  {
   "cell_type": "markdown",
   "metadata": {},
   "source": [
    "## Slice dataframes"
   ]
  },
  {
   "cell_type": "code",
   "execution_count": 108,
   "metadata": {},
   "outputs": [],
   "source": [
    "eg = eg[eg.columns.intersection(x_variables)]"
   ]
  },
  {
   "cell_type": "code",
   "execution_count": 109,
   "metadata": {},
   "outputs": [],
   "source": [
    "cg = cg[cg.columns.intersection(x_variables)]"
   ]
  },
  {
   "cell_type": "markdown",
   "metadata": {},
   "source": [
    "## Add eg, cg column"
   ]
  },
  {
   "cell_type": "code",
   "execution_count": 110,
   "metadata": {},
   "outputs": [],
   "source": [
    "eg['Gruppe'] = 'eg'"
   ]
  },
  {
   "cell_type": "code",
   "execution_count": 111,
   "metadata": {},
   "outputs": [],
   "source": [
    "cg['Gruppe'] = 'cg'"
   ]
  },
  {
   "cell_type": "markdown",
   "metadata": {},
   "source": [
    "## Add eg, cg column"
   ]
  },
  {
   "cell_type": "code",
   "execution_count": 112,
   "metadata": {},
   "outputs": [
    {
     "data": {
      "text/plain": [
       "(278,\n",
       " Index(['SD01', 'SD02_01', 'SD04', 'SD06', 'SD07', 'HI01', 'HI03', 'HI04',\n",
       "        'HI05', 'HI06', 'VR01', 'VR06', 'handlungsbereitschaft_score', 'K001',\n",
       "        'Gruppe'],\n",
       "       dtype='object'))"
      ]
     },
     "execution_count": 112,
     "metadata": {},
     "output_type": "execute_result"
    }
   ],
   "source": [
    "df = eg.append(cg)\n",
    "len(df), df.columns"
   ]
  },
  {
   "cell_type": "code",
   "execution_count": 113,
   "metadata": {},
   "outputs": [],
   "source": [
    "df.columns = ['Geschlecht',\n",
    "'Alter',\n",
    "'Abschluss',\n",
    "'Kinder',\n",
    "'Rauchen',\n",
    "'Wohnsituation',\n",
    "'Gebäudentyp',\n",
    "'Wohndauer',\n",
    "'Wohnperspektive',\n",
    "'Etage',\n",
    "'Radonkenntnisse',\n",
    "'BfS-Bekanntheit',\n",
    "indep_var,\n",
    "'Risikogebiet',\n",
    "'Gruppe']"
   ]
  },
  {
   "cell_type": "code",
   "execution_count": 114,
   "metadata": {},
   "outputs": [
    {
     "data": {
      "text/html": [
       "<div>\n",
       "<style scoped>\n",
       "    .dataframe tbody tr th:only-of-type {\n",
       "        vertical-align: middle;\n",
       "    }\n",
       "\n",
       "    .dataframe tbody tr th {\n",
       "        vertical-align: top;\n",
       "    }\n",
       "\n",
       "    .dataframe thead th {\n",
       "        text-align: right;\n",
       "    }\n",
       "</style>\n",
       "<table border=\"1\" class=\"dataframe\">\n",
       "  <thead>\n",
       "    <tr style=\"text-align: right;\">\n",
       "      <th></th>\n",
       "      <th>Geschlecht</th>\n",
       "      <th>Alter</th>\n",
       "      <th>Abschluss</th>\n",
       "      <th>Kinder</th>\n",
       "      <th>Rauchen</th>\n",
       "      <th>Wohnsituation</th>\n",
       "      <th>Gebäudentyp</th>\n",
       "      <th>Wohndauer</th>\n",
       "      <th>Wohnperspektive</th>\n",
       "      <th>Etage</th>\n",
       "      <th>Radonkenntnisse</th>\n",
       "      <th>BfS-Bekanntheit</th>\n",
       "      <th>handlungsbereitschaft_score</th>\n",
       "      <th>Risikogebiet</th>\n",
       "      <th>Gruppe</th>\n",
       "    </tr>\n",
       "  </thead>\n",
       "  <tbody>\n",
       "    <tr>\n",
       "      <th>0</th>\n",
       "      <td>Männlich</td>\n",
       "      <td>1960</td>\n",
       "      <td>Hochschulabschluß</td>\n",
       "      <td>Keine Kinder</td>\n",
       "      <td>Kein* Raucher*in</td>\n",
       "      <td>Mieter*in</td>\n",
       "      <td>in einem Mehrfamilienhaus oder einer Wohnung</td>\n",
       "      <td>0 bis 5 Jahres</td>\n",
       "      <td>länger als 10 Jahre</td>\n",
       "      <td>Erdgeschoß/Souterrain</td>\n",
       "      <td>kennt Radon</td>\n",
       "      <td>kennt BfS</td>\n",
       "      <td>2.8</td>\n",
       "      <td>Angrenzend</td>\n",
       "      <td>eg</td>\n",
       "    </tr>\n",
       "    <tr>\n",
       "      <th>1</th>\n",
       "      <td>Männlich</td>\n",
       "      <td>1958</td>\n",
       "      <td>Ausbildung</td>\n",
       "      <td>Keine Kinder</td>\n",
       "      <td>Kein* Raucher*in</td>\n",
       "      <td>Mieter*in</td>\n",
       "      <td>in einem Mehrfamilienhaus oder einer Wohnung</td>\n",
       "      <td>länger als 10 Jahre</td>\n",
       "      <td>länger als 10 Jahre</td>\n",
       "      <td>2. Etage oder höher</td>\n",
       "      <td>kennt Radon nicht</td>\n",
       "      <td>kennt BfS</td>\n",
       "      <td>3.4</td>\n",
       "      <td>Angrenzend</td>\n",
       "      <td>eg</td>\n",
       "    </tr>\n",
       "    <tr>\n",
       "      <th>2</th>\n",
       "      <td>Männlich</td>\n",
       "      <td>1963</td>\n",
       "      <td>Ausbildung</td>\n",
       "      <td>Keine Kinder</td>\n",
       "      <td>Kein* Raucher*in</td>\n",
       "      <td>Mieter*in</td>\n",
       "      <td>in einem Mehrfamilienhaus oder einer Wohnung</td>\n",
       "      <td>länger als 10 Jahre</td>\n",
       "      <td>länger als 10 Jahre</td>\n",
       "      <td>2. Etage oder höher</td>\n",
       "      <td>kennt Radon nicht</td>\n",
       "      <td>kennt BfS nicht</td>\n",
       "      <td>0.0</td>\n",
       "      <td>Radon-Gebiet</td>\n",
       "      <td>eg</td>\n",
       "    </tr>\n",
       "    <tr>\n",
       "      <th>3</th>\n",
       "      <td>Männlich</td>\n",
       "      <td>1979</td>\n",
       "      <td>Maximal Schulabschluß und sonstiges</td>\n",
       "      <td>hat Kinder</td>\n",
       "      <td>Kein* Raucher*in</td>\n",
       "      <td>Eigentümer*in</td>\n",
       "      <td>in einem  Ein- oder Zweifamilienhaus</td>\n",
       "      <td>länger als 10 Jahre</td>\n",
       "      <td>länger als 10 Jahre</td>\n",
       "      <td>1. Etage</td>\n",
       "      <td>kennt Radon nicht</td>\n",
       "      <td>kennt BfS</td>\n",
       "      <td>3.0</td>\n",
       "      <td>Angrenzend</td>\n",
       "      <td>eg</td>\n",
       "    </tr>\n",
       "    <tr>\n",
       "      <th>4</th>\n",
       "      <td>Weiblich</td>\n",
       "      <td>1966</td>\n",
       "      <td>Ausbildung</td>\n",
       "      <td>Keine Kinder</td>\n",
       "      <td>Kein* Raucher*in</td>\n",
       "      <td>Eigentümer*in</td>\n",
       "      <td>in einem Mehrfamilienhaus oder einer Wohnung</td>\n",
       "      <td>länger als 10 Jahre</td>\n",
       "      <td>länger als 10 Jahre</td>\n",
       "      <td>2. Etage oder höher</td>\n",
       "      <td>kennt Radon</td>\n",
       "      <td>kennt BfS</td>\n",
       "      <td>2.4</td>\n",
       "      <td>Angrenzend</td>\n",
       "      <td>eg</td>\n",
       "    </tr>\n",
       "  </tbody>\n",
       "</table>\n",
       "</div>"
      ],
      "text/plain": [
       "  Geschlecht  Alter                            Abschluss        Kinder  \\\n",
       "0   Männlich   1960                    Hochschulabschluß  Keine Kinder   \n",
       "1   Männlich   1958                           Ausbildung  Keine Kinder   \n",
       "2   Männlich   1963                           Ausbildung  Keine Kinder   \n",
       "3   Männlich   1979  Maximal Schulabschluß und sonstiges    hat Kinder   \n",
       "4   Weiblich   1966                           Ausbildung  Keine Kinder   \n",
       "\n",
       "            Rauchen  Wohnsituation  \\\n",
       "0  Kein* Raucher*in      Mieter*in   \n",
       "1  Kein* Raucher*in      Mieter*in   \n",
       "2  Kein* Raucher*in      Mieter*in   \n",
       "3  Kein* Raucher*in  Eigentümer*in   \n",
       "4  Kein* Raucher*in  Eigentümer*in   \n",
       "\n",
       "                                    Gebäudentyp            Wohndauer  \\\n",
       "0  in einem Mehrfamilienhaus oder einer Wohnung       0 bis 5 Jahres   \n",
       "1  in einem Mehrfamilienhaus oder einer Wohnung  länger als 10 Jahre   \n",
       "2  in einem Mehrfamilienhaus oder einer Wohnung  länger als 10 Jahre   \n",
       "3          in einem  Ein- oder Zweifamilienhaus  länger als 10 Jahre   \n",
       "4  in einem Mehrfamilienhaus oder einer Wohnung  länger als 10 Jahre   \n",
       "\n",
       "       Wohnperspektive                  Etage    Radonkenntnisse  \\\n",
       "0  länger als 10 Jahre  Erdgeschoß/Souterrain        kennt Radon   \n",
       "1  länger als 10 Jahre    2. Etage oder höher  kennt Radon nicht   \n",
       "2  länger als 10 Jahre    2. Etage oder höher  kennt Radon nicht   \n",
       "3  länger als 10 Jahre               1. Etage  kennt Radon nicht   \n",
       "4  länger als 10 Jahre    2. Etage oder höher        kennt Radon   \n",
       "\n",
       "   BfS-Bekanntheit  handlungsbereitschaft_score  Risikogebiet Gruppe  \n",
       "0        kennt BfS                          2.8    Angrenzend     eg  \n",
       "1        kennt BfS                          3.4    Angrenzend     eg  \n",
       "2  kennt BfS nicht                          0.0  Radon-Gebiet     eg  \n",
       "3        kennt BfS                          3.0    Angrenzend     eg  \n",
       "4        kennt BfS                          2.4    Angrenzend     eg  "
      ]
     },
     "execution_count": 114,
     "metadata": {},
     "output_type": "execute_result"
    }
   ],
   "source": [
    "df.head()"
   ]
  },
  {
   "cell_type": "code",
   "execution_count": 1399,
   "metadata": {},
   "outputs": [],
   "source": [
    "# save one df for each schore\n",
    "df.to_csv(\"df_\" + indep_var + \"_gam_uncoded.csv\")"
   ]
  }
 ],
 "metadata": {
  "colab": {
   "authorship_tag": "ABX9TyPhYhte6t7H4wEK4xPpDWT7",
   "name": "Multiple Linear Regression",
   "provenance": [],
   "toc_visible": true
  },
  "kernelspec": {
   "display_name": "Python 3 (ipykernel)",
   "language": "python",
   "name": "python3"
  },
  "language_info": {
   "codemirror_mode": {
    "name": "ipython",
    "version": 3
   },
   "file_extension": ".py",
   "mimetype": "text/x-python",
   "name": "python",
   "nbconvert_exporter": "python",
   "pygments_lexer": "ipython3",
   "version": "3.8.5"
  }
 },
 "nbformat": 4,
 "nbformat_minor": 4
}
