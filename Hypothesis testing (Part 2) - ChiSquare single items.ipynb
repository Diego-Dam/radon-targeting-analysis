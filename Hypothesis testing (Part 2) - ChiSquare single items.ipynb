{
 "cells": [
  {
   "cell_type": "markdown",
   "metadata": {},
   "source": [
    "# Hypothesis test (Part II)"
   ]
  },
  {
   "cell_type": "markdown",
   "metadata": {},
   "source": [
    "The following code was designed to test for differences in relation to three further items: 1) whether recipients change their radon risk perception because of the information they received; 2) how they perceive the radon risk after considering the information; and 3) whether they have the intention to test radon levels at home."
   ]
  },
  {
   "cell_type": "code",
   "execution_count": 3,
   "metadata": {},
   "outputs": [],
   "source": [
    "# Import libraries\n",
    "import pandas as pd\n",
    "%matplotlib inline\n",
    "import seaborn as sns\n",
    "import numpy as np\n",
    "import matplotlib.pyplot as plt\n",
    "from scipy.stats import chi2_contingency, ttest_ind, f_oneway, shapiro\n",
    "from itertools import combinations\n",
    "import scipy.stats as stats\n",
    "import researchpy as rp\n",
    "import pingouin as pg\n",
    "import statsmodels.api as sm\n",
    "from scipy.stats.stats import pearsonr"
   ]
  },
  {
   "cell_type": "markdown",
   "metadata": {},
   "source": [
    "## Function"
   ]
  },
  {
   "cell_type": "code",
   "execution_count": 4,
   "metadata": {},
   "outputs": [],
   "source": [
    "# function to calculate relative cross tabulation by rows and display heatmap\n",
    "def cross_2_col(col1, col2):\n",
    "    c1 = pd.crosstab(col1, col2)\n",
    "    c2 = pd.crosstab(col1, col2).apply(lambda r: r/r.sum(), axis=1).round(2)\n",
    "    c, p, dof, expected = chi2_contingency(c1)\n",
    "    f, ax = plt.subplots(figsize=(9, 6))\n",
    "    sns.heatmap(c2, annot=True,  linewidths=.5, ax=ax)\n",
    "    print(\"===Chi2 Stat===\")\n",
    "    print(c)\n",
    "    print(\"\\n\")\n",
    "    print(\"===Dexperimental_grouprees of Freedom===\")\n",
    "    print(dof)\n",
    "    print(\"\\n\")\n",
    "    print(\"===P-Value===\")\n",
    "    print(p)\n",
    "    significance = 0.1\n",
    "    print('p-value=%.6f, significance=%.2f\\n' % (p, significance))\n",
    "    if p < significance:\n",
    "        print(\"\"\"At %.2f level of significance, we reject the null hypotheses and accept H1. \n",
    "    They are not independent.\"\"\" % (significance))\n",
    "    else:\n",
    "        print(\"\"\"At %.2f level of significance, we accept the null hypotheses. \n",
    "    They are independent.\"\"\" % (significance))\n",
    "    print(\"\\n\")\n",
    "    print(\"===Contingency Table===\")\n",
    "    print(expected)\n",
    "    return c1, plt.show()\n",
    "# c is the chi-square\n",
    "# p value\n",
    "# dof is the dexperimental_groupree of freedom (n of rows - 1) * (n of col -1)\n"
   ]
  },
  {
   "cell_type": "code",
   "execution_count": 5,
   "metadata": {},
   "outputs": [],
   "source": [
    "# import the data\n",
    "control_group = pd.read_csv(\"05-12-2021_kontrollgruppe_df.csv\", index_col=0) \n",
    "experimental_group = pd.read_csv(\"05-12-2021_untersuchungsgruppe_df.csv\", index_col=0)"
   ]
  },
  {
   "cell_type": "markdown",
   "metadata": {},
   "source": [
    "### Test 1: whether recipients change their radon risk perception because of the information they received\n",
    "Aggregate Items RW01 to investigate whether recipients change their radon risk perception because of the information they received"
   ]
  },
  {
   "cell_type": "code",
   "execution_count": 6,
   "metadata": {},
   "outputs": [
    {
     "data": {
      "text/plain": [
       "(186, 96)"
      ]
     },
     "execution_count": 6,
     "metadata": {},
     "output_type": "execute_result"
    }
   ],
   "source": [
    "# check n of valid cases\n",
    "len(experimental_group.RW01_01.dropna()), len(control_group.RW01_01.dropna())"
   ]
  },
  {
   "cell_type": "code",
   "execution_count": 7,
   "metadata": {},
   "outputs": [],
   "source": [
    "# aggregate the four point likert scale to a two point scale to investigate significance\n",
    "experimental_group[\"RW01_01_aggr\"] = experimental_group[\"RW01_01\"].map({\"nein\": \"nein/eher nein\", \"eher nein\": \"nein/eher nein\", \"eher ja\": \"ja/eher ja\", \"ja\" : \"ja/eher ja\", \"Keine Angabe\" : \"Keine Angabe\"})\n",
    "control_group[\"RW01_01_aggr\"] = control_group[\"RW01_01\"].map({\"nein\": \"nein/eher nein\", \"eher nein\": \"nein/eher nein\", \"eher ja\": \"ja/eher ja\", \"ja\" : \"ja/eher ja\", \"Keine Angabe\" : \"Keine Angabe\"})"
   ]
  },
  {
   "cell_type": "code",
   "execution_count": 8,
   "metadata": {},
   "outputs": [],
   "source": [
    "# remove keine angabe (no answer)\n",
    "prov = experimental_group[experimental_group[\"RW01_01_aggr\"] != \"Keine Angabe\"]"
   ]
  },
  {
   "cell_type": "code",
   "execution_count": 9,
   "metadata": {
    "scrolled": false
   },
   "outputs": [
    {
     "name": "stderr",
     "output_type": "stream",
     "text": [
      "C:\\Users\\diego\\AppData\\Local\\Temp/ipykernel_31168/370568342.py:3: SettingWithCopyWarning: \n",
      "A value is trying to be set on a copy of a slice from a DataFrame.\n",
      "Try using .loc[row_indexer,col_indexer] = value instead\n",
      "\n",
      "See the caveats in the documentation: https://pandas.pydata.org/pandas-docs/stable/user_guide/indexing.html#returning-a-view-versus-a-copy\n",
      "  prov1['Gruppe'] = \"experimental_group\"\n"
     ]
    }
   ],
   "source": [
    "# create viz friendly dataset and labels\n",
    "prov1 = experimental_group[experimental_group[\"RW01_01_aggr\"] != \"Keine Angabe\"]\n",
    "prov1['Gruppe'] = \"experimental_group\"\n",
    "prov1 = prov1[[\"Gruppe\", \"RW01_01_aggr\"]]\n",
    "prov2 = control_group[control_group[\"RW01_01_aggr\"] != \"Keine Angabe\"]\n",
    "prov2['Gruppe'] = \"control_group\"\n",
    "prov2 = prov2[[\"Gruppe\", \"RW01_01_aggr\"]]"
   ]
  },
  {
   "cell_type": "code",
   "execution_count": 10,
   "metadata": {},
   "outputs": [
    {
     "data": {
      "text/html": [
       "<div>\n",
       "<style scoped>\n",
       "    .dataframe tbody tr th:only-of-type {\n",
       "        vertical-align: middle;\n",
       "    }\n",
       "\n",
       "    .dataframe tbody tr th {\n",
       "        vertical-align: top;\n",
       "    }\n",
       "\n",
       "    .dataframe thead th {\n",
       "        text-align: right;\n",
       "    }\n",
       "</style>\n",
       "<table border=\"1\" class=\"dataframe\">\n",
       "  <thead>\n",
       "    <tr style=\"text-align: right;\">\n",
       "      <th></th>\n",
       "      <th>Gruppe</th>\n",
       "      <th>RW01_01_aggr</th>\n",
       "    </tr>\n",
       "  </thead>\n",
       "  <tbody>\n",
       "    <tr>\n",
       "      <th>0</th>\n",
       "      <td>experimental_group</td>\n",
       "      <td>nein/eher nein</td>\n",
       "    </tr>\n",
       "    <tr>\n",
       "      <th>1</th>\n",
       "      <td>experimental_group</td>\n",
       "      <td>NaN</td>\n",
       "    </tr>\n",
       "    <tr>\n",
       "      <th>2</th>\n",
       "      <td>experimental_group</td>\n",
       "      <td>NaN</td>\n",
       "    </tr>\n",
       "    <tr>\n",
       "      <th>3</th>\n",
       "      <td>experimental_group</td>\n",
       "      <td>NaN</td>\n",
       "    </tr>\n",
       "    <tr>\n",
       "      <th>4</th>\n",
       "      <td>experimental_group</td>\n",
       "      <td>nein/eher nein</td>\n",
       "    </tr>\n",
       "    <tr>\n",
       "      <th>...</th>\n",
       "      <td>...</td>\n",
       "      <td>...</td>\n",
       "    </tr>\n",
       "    <tr>\n",
       "      <th>95</th>\n",
       "      <td>control_group</td>\n",
       "      <td>nein/eher nein</td>\n",
       "    </tr>\n",
       "    <tr>\n",
       "      <th>96</th>\n",
       "      <td>control_group</td>\n",
       "      <td>ja/eher ja</td>\n",
       "    </tr>\n",
       "    <tr>\n",
       "      <th>97</th>\n",
       "      <td>control_group</td>\n",
       "      <td>ja/eher ja</td>\n",
       "    </tr>\n",
       "    <tr>\n",
       "      <th>98</th>\n",
       "      <td>control_group</td>\n",
       "      <td>ja/eher ja</td>\n",
       "    </tr>\n",
       "    <tr>\n",
       "      <th>99</th>\n",
       "      <td>control_group</td>\n",
       "      <td>nein/eher nein</td>\n",
       "    </tr>\n",
       "  </tbody>\n",
       "</table>\n",
       "<p>287 rows × 2 columns</p>\n",
       "</div>"
      ],
      "text/plain": [
       "                Gruppe    RW01_01_aggr\n",
       "0   experimental_group  nein/eher nein\n",
       "1   experimental_group             NaN\n",
       "2   experimental_group             NaN\n",
       "3   experimental_group             NaN\n",
       "4   experimental_group  nein/eher nein\n",
       "..                 ...             ...\n",
       "95       control_group  nein/eher nein\n",
       "96       control_group      ja/eher ja\n",
       "97       control_group      ja/eher ja\n",
       "98       control_group      ja/eher ja\n",
       "99       control_group  nein/eher nein\n",
       "\n",
       "[287 rows x 2 columns]"
      ]
     },
     "execution_count": 10,
     "metadata": {},
     "output_type": "execute_result"
    }
   ],
   "source": [
    "# append and check\n",
    "prov = prov1.append(prov2)\n",
    "prov"
   ]
  },
  {
   "cell_type": "code",
   "execution_count": 11,
   "metadata": {
    "scrolled": true
   },
   "outputs": [
    {
     "name": "stdout",
     "output_type": "stream",
     "text": [
      "===Chi2 Stat===\n",
      "0.4283762100168349\n",
      "\n",
      "\n",
      "===Dexperimental_grouprees of Freedom===\n",
      "1\n",
      "\n",
      "\n",
      "===P-Value===\n",
      "0.5127867947243128\n",
      "p-value=0.512787, significance=0.10\n",
      "\n",
      "At 0.10 level of significance, we accept the null hypotheses. \n",
      "    They are independent.\n",
      "\n",
      "\n",
      "===Contingency Table===\n",
      "[[50.08695652 45.91304348]\n",
      " [93.91304348 86.08695652]]\n"
     ]
    },
    {
     "data": {
      "image/png": "[encoded data removed]",
      "text/plain": [
       "<Figure size 648x432 with 2 Axes>"
      ]
     },
     "metadata": {
      "needs_background": "light"
     },
     "output_type": "display_data"
    },
    {
     "data": {
      "text/plain": [
       "(RW01_01_aggr        ja/eher ja  nein/eher nein\n",
       " Gruppe                                        \n",
       " control_group               47              49\n",
       " experimental_group          97              83,\n",
       " None)"
      ]
     },
     "execution_count": 11,
     "metadata": {},
     "output_type": "execute_result"
    }
   ],
   "source": [
    "# calculate significan and p level\n",
    "cross_2_col(prov['Gruppe'], prov[\"RW01_01_aggr\"])"
   ]
  },
  {
   "cell_type": "markdown",
   "metadata": {},
   "source": [
    "### Test 2: how they perceive the radon risk after considering the information\n",
    "Aggregate Items RW02_01 to investigate how they perceive the radon risk after considering the information"
   ]
  },
  {
   "cell_type": "code",
   "execution_count": 12,
   "metadata": {},
   "outputs": [
    {
     "data": {
      "text/plain": [
       "(100, 193)"
      ]
     },
     "execution_count": 12,
     "metadata": {},
     "output_type": "execute_result"
    }
   ],
   "source": [
    "# check n of cases\n",
    "len(control_group[\"RW02_01\"]), len(experimental_group[\"RW02_01\"])"
   ]
  },
  {
   "cell_type": "code",
   "execution_count": 13,
   "metadata": {},
   "outputs": [],
   "source": [
    "# aggregate the four point likert scale to a two point scale to investigate significance\n",
    "control_group[\"RW02_01_aggr\"] = control_group[\"RW02_01\"].map({\"gering\": \"gering/eher gering\", \"eher gering\": \"gering/eher gering\", \"eher hoch\": \"hoch/eher hoch\", \"hoch\" : \"hoch/eher hoch\", \"Keine Angabe\" : \"Keine Angabe\"})\n",
    "experimental_group[\"RW02_01_aggr\"] = experimental_group[\"RW02_01\"].map({\"gering\": \"gering/eher gering\", \"eher gering\": \"gering/eher gering\", \"eher hoch\": \"hoch/eher hoch\", \"hoch\" : \"hoch/eher hoch\", \"Keine Angabe\" : \"Keine Angabe\"})"
   ]
  },
  {
   "cell_type": "code",
   "execution_count": 14,
   "metadata": {},
   "outputs": [],
   "source": [
    "# remove no answers\n",
    "prov = control_group[control_group[\"RW02_01\"] != \"Keine Angabe\"]"
   ]
  },
  {
   "cell_type": "code",
   "execution_count": 15,
   "metadata": {
    "scrolled": false
   },
   "outputs": [
    {
     "name": "stderr",
     "output_type": "stream",
     "text": [
      "C:\\Users\\diego\\AppData\\Local\\Temp/ipykernel_31168/2224098844.py:3: SettingWithCopyWarning: \n",
      "A value is trying to be set on a copy of a slice from a DataFrame.\n",
      "Try using .loc[row_indexer,col_indexer] = value instead\n",
      "\n",
      "See the caveats in the documentation: https://pandas.pydata.org/pandas-docs/stable/user_guide/indexing.html#returning-a-view-versus-a-copy\n",
      "  prov1['Gruppe'] = \"experimental_group\"\n",
      "C:\\Users\\diego\\AppData\\Local\\Temp/ipykernel_31168/2224098844.py:6: SettingWithCopyWarning: \n",
      "A value is trying to be set on a copy of a slice from a DataFrame.\n",
      "Try using .loc[row_indexer,col_indexer] = value instead\n",
      "\n",
      "See the caveats in the documentation: https://pandas.pydata.org/pandas-docs/stable/user_guide/indexing.html#returning-a-view-versus-a-copy\n",
      "  prov2['Gruppe'] = \"control_group\"\n"
     ]
    }
   ],
   "source": [
    "# create viz friendly dataset and labels\n",
    "prov1 = experimental_group[experimental_group[\"RW02_01_aggr\"] != \"Keine Angabe\"]\n",
    "prov1['Gruppe'] = \"experimental_group\"\n",
    "prov1 = prov1[[\"Gruppe\", \"RW02_01_aggr\"]]\n",
    "prov2 = control_group[control_group[\"RW02_01_aggr\"] != \"Keine Angabe\"]\n",
    "prov2['Gruppe'] = \"control_group\"\n",
    "prov2 = prov2[[\"Gruppe\", \"RW02_01_aggr\"]]"
   ]
  },
  {
   "cell_type": "code",
   "execution_count": 16,
   "metadata": {
    "scrolled": true
   },
   "outputs": [
    {
     "data": {
      "text/html": [
       "<div>\n",
       "<style scoped>\n",
       "    .dataframe tbody tr th:only-of-type {\n",
       "        vertical-align: middle;\n",
       "    }\n",
       "\n",
       "    .dataframe tbody tr th {\n",
       "        vertical-align: top;\n",
       "    }\n",
       "\n",
       "    .dataframe thead th {\n",
       "        text-align: right;\n",
       "    }\n",
       "</style>\n",
       "<table border=\"1\" class=\"dataframe\">\n",
       "  <thead>\n",
       "    <tr style=\"text-align: right;\">\n",
       "      <th></th>\n",
       "      <th>Gruppe</th>\n",
       "      <th>RW02_01_aggr</th>\n",
       "    </tr>\n",
       "  </thead>\n",
       "  <tbody>\n",
       "    <tr>\n",
       "      <th>0</th>\n",
       "      <td>experimental_group</td>\n",
       "      <td>gering/eher gering</td>\n",
       "    </tr>\n",
       "    <tr>\n",
       "      <th>1</th>\n",
       "      <td>experimental_group</td>\n",
       "      <td>hoch/eher hoch</td>\n",
       "    </tr>\n",
       "    <tr>\n",
       "      <th>2</th>\n",
       "      <td>experimental_group</td>\n",
       "      <td>gering/eher gering</td>\n",
       "    </tr>\n",
       "    <tr>\n",
       "      <th>3</th>\n",
       "      <td>experimental_group</td>\n",
       "      <td>gering/eher gering</td>\n",
       "    </tr>\n",
       "    <tr>\n",
       "      <th>4</th>\n",
       "      <td>experimental_group</td>\n",
       "      <td>gering/eher gering</td>\n",
       "    </tr>\n",
       "    <tr>\n",
       "      <th>...</th>\n",
       "      <td>...</td>\n",
       "      <td>...</td>\n",
       "    </tr>\n",
       "    <tr>\n",
       "      <th>95</th>\n",
       "      <td>control_group</td>\n",
       "      <td>hoch/eher hoch</td>\n",
       "    </tr>\n",
       "    <tr>\n",
       "      <th>96</th>\n",
       "      <td>control_group</td>\n",
       "      <td>hoch/eher hoch</td>\n",
       "    </tr>\n",
       "    <tr>\n",
       "      <th>97</th>\n",
       "      <td>control_group</td>\n",
       "      <td>gering/eher gering</td>\n",
       "    </tr>\n",
       "    <tr>\n",
       "      <th>98</th>\n",
       "      <td>control_group</td>\n",
       "      <td>gering/eher gering</td>\n",
       "    </tr>\n",
       "    <tr>\n",
       "      <th>99</th>\n",
       "      <td>control_group</td>\n",
       "      <td>hoch/eher hoch</td>\n",
       "    </tr>\n",
       "  </tbody>\n",
       "</table>\n",
       "<p>280 rows × 2 columns</p>\n",
       "</div>"
      ],
      "text/plain": [
       "                Gruppe        RW02_01_aggr\n",
       "0   experimental_group  gering/eher gering\n",
       "1   experimental_group      hoch/eher hoch\n",
       "2   experimental_group  gering/eher gering\n",
       "3   experimental_group  gering/eher gering\n",
       "4   experimental_group  gering/eher gering\n",
       "..                 ...                 ...\n",
       "95       control_group      hoch/eher hoch\n",
       "96       control_group      hoch/eher hoch\n",
       "97       control_group  gering/eher gering\n",
       "98       control_group  gering/eher gering\n",
       "99       control_group      hoch/eher hoch\n",
       "\n",
       "[280 rows x 2 columns]"
      ]
     },
     "execution_count": 16,
     "metadata": {},
     "output_type": "execute_result"
    }
   ],
   "source": [
    "# append and check\n",
    "prov = prov1.append(prov2)\n",
    "prov"
   ]
  },
  {
   "cell_type": "code",
   "execution_count": 17,
   "metadata": {
    "scrolled": false
   },
   "outputs": [
    {
     "name": "stdout",
     "output_type": "stream",
     "text": [
      "===Chi2 Stat===\n",
      "0.3989110728651058\n",
      "\n",
      "\n",
      "===Dexperimental_grouprees of Freedom===\n",
      "1\n",
      "\n",
      "\n",
      "===P-Value===\n",
      "0.5276521605987727\n",
      "p-value=0.527652, significance=0.10\n",
      "\n",
      "At 0.10 level of significance, we accept the null hypotheses. \n",
      "    They are independent.\n",
      "\n",
      "\n",
      "===Contingency Table===\n",
      "[[53.00357143 43.99642857]\n",
      " [99.99642857 83.00357143]]\n"
     ]
    },
    {
     "data": {
      "image/png": "[encoded data removed]",
      "text/plain": [
       "<Figure size 648x432 with 2 Axes>"
      ]
     },
     "metadata": {
      "needs_background": "light"
     },
     "output_type": "display_data"
    },
    {
     "data": {
      "text/plain": [
       "(RW02_01_aggr        gering/eher gering  hoch/eher hoch\n",
       " Gruppe                                                \n",
       " control_group                       50              47\n",
       " experimental_group                 103              80,\n",
       " None)"
      ]
     },
     "execution_count": 17,
     "metadata": {},
     "output_type": "execute_result"
    }
   ],
   "source": [
    "# calculate significan and p level\n",
    "cross_2_col(prov['Gruppe'], prov[\"RW02_01_aggr\"])"
   ]
  },
  {
   "cell_type": "markdown",
   "metadata": {},
   "source": [
    "### Test 3: whether they have the intention to test radon levels at home.\n",
    "Aggregate Items H101 to investigate whether they have the intention to test radon levels at home."
   ]
  },
  {
   "cell_type": "code",
   "execution_count": 18,
   "metadata": {},
   "outputs": [
    {
     "data": {
      "text/plain": [
       "(100, 193)"
      ]
     },
     "execution_count": 18,
     "metadata": {},
     "output_type": "execute_result"
    }
   ],
   "source": [
    "# check n of cases\n",
    "len(control_group[\"H101\"]), len(experimental_group[\"H101\"])"
   ]
  },
  {
   "cell_type": "code",
   "execution_count": 19,
   "metadata": {
    "scrolled": true
   },
   "outputs": [
    {
     "data": {
      "text/html": [
       "<div>\n",
       "<style scoped>\n",
       "    .dataframe tbody tr th:only-of-type {\n",
       "        vertical-align: middle;\n",
       "    }\n",
       "\n",
       "    .dataframe tbody tr th {\n",
       "        vertical-align: top;\n",
       "    }\n",
       "\n",
       "    .dataframe thead th {\n",
       "        text-align: right;\n",
       "    }\n",
       "</style>\n",
       "<table border=\"1\" class=\"dataframe\">\n",
       "  <thead>\n",
       "    <tr style=\"text-align: right;\">\n",
       "      <th></th>\n",
       "      <th>SD01</th>\n",
       "      <th>SD02_01</th>\n",
       "      <th>SD03_01</th>\n",
       "      <th>SD04</th>\n",
       "      <th>SD05_01</th>\n",
       "      <th>SD06</th>\n",
       "      <th>SD07</th>\n",
       "      <th>HI01</th>\n",
       "      <th>HI02</th>\n",
       "      <th>HI03</th>\n",
       "      <th>...</th>\n",
       "      <th>K001</th>\n",
       "      <th>M501_01</th>\n",
       "      <th>M501_02</th>\n",
       "      <th>M501_03</th>\n",
       "      <th>M501_04</th>\n",
       "      <th>M501_05</th>\n",
       "      <th>M501_06</th>\n",
       "      <th>M502_01</th>\n",
       "      <th>M502_02</th>\n",
       "      <th>M502_03</th>\n",
       "    </tr>\n",
       "  </thead>\n",
       "  <tbody>\n",
       "    <tr>\n",
       "      <th>0</th>\n",
       "      <td>Männlich</td>\n",
       "      <td>1960</td>\n",
       "      <td>8228</td>\n",
       "      <td>Hochschulabschluß</td>\n",
       "      <td>2</td>\n",
       "      <td>Nein</td>\n",
       "      <td>Nein</td>\n",
       "      <td>Ich wohne zur Miete.</td>\n",
       "      <td>Nein</td>\n",
       "      <td>in einem Mehrfamilienhaus oder einer Wohnung</td>\n",
       "      <td>...</td>\n",
       "      <td>NaN</td>\n",
       "      <td>NaN</td>\n",
       "      <td>NaN</td>\n",
       "      <td>NaN</td>\n",
       "      <td>NaN</td>\n",
       "      <td>NaN</td>\n",
       "      <td>NaN</td>\n",
       "      <td>NaN</td>\n",
       "      <td>NaN</td>\n",
       "      <td>NaN</td>\n",
       "    </tr>\n",
       "    <tr>\n",
       "      <th>1</th>\n",
       "      <td>Männlich</td>\n",
       "      <td>1958</td>\n",
       "      <td>9113</td>\n",
       "      <td>Ausbildung</td>\n",
       "      <td>2</td>\n",
       "      <td>Nein</td>\n",
       "      <td>Nein</td>\n",
       "      <td>Ich wohne zur Miete.</td>\n",
       "      <td>Nein</td>\n",
       "      <td>in einem Mehrfamilienhaus oder einer Wohnung</td>\n",
       "      <td>...</td>\n",
       "      <td>NaN</td>\n",
       "      <td>NaN</td>\n",
       "      <td>NaN</td>\n",
       "      <td>NaN</td>\n",
       "      <td>NaN</td>\n",
       "      <td>NaN</td>\n",
       "      <td>NaN</td>\n",
       "      <td>NaN</td>\n",
       "      <td>NaN</td>\n",
       "      <td>NaN</td>\n",
       "    </tr>\n",
       "    <tr>\n",
       "      <th>2</th>\n",
       "      <td>Männlich</td>\n",
       "      <td>1963</td>\n",
       "      <td>1257</td>\n",
       "      <td>Ausbildung</td>\n",
       "      <td>2</td>\n",
       "      <td>Nein</td>\n",
       "      <td>Nein</td>\n",
       "      <td>Ich wohne zur Miete.</td>\n",
       "      <td>Nein</td>\n",
       "      <td>in einem Mehrfamilienhaus oder einer Wohnung</td>\n",
       "      <td>...</td>\n",
       "      <td>NaN</td>\n",
       "      <td>NaN</td>\n",
       "      <td>NaN</td>\n",
       "      <td>NaN</td>\n",
       "      <td>NaN</td>\n",
       "      <td>NaN</td>\n",
       "      <td>NaN</td>\n",
       "      <td>NaN</td>\n",
       "      <td>NaN</td>\n",
       "      <td>NaN</td>\n",
       "    </tr>\n",
       "    <tr>\n",
       "      <th>3</th>\n",
       "      <td>Männlich</td>\n",
       "      <td>1979</td>\n",
       "      <td>94136</td>\n",
       "      <td>Schulabschluß</td>\n",
       "      <td>4</td>\n",
       "      <td>Ja</td>\n",
       "      <td>Nein</td>\n",
       "      <td>Ich wohne im eigenen Haus bzw. in der eigenen ...</td>\n",
       "      <td>Nein</td>\n",
       "      <td>in einem  Ein- oder Zweifamilienhaus</td>\n",
       "      <td>...</td>\n",
       "      <td>NaN</td>\n",
       "      <td>NaN</td>\n",
       "      <td>NaN</td>\n",
       "      <td>NaN</td>\n",
       "      <td>NaN</td>\n",
       "      <td>NaN</td>\n",
       "      <td>NaN</td>\n",
       "      <td>NaN</td>\n",
       "      <td>NaN</td>\n",
       "      <td>NaN</td>\n",
       "    </tr>\n",
       "    <tr>\n",
       "      <th>4</th>\n",
       "      <td>Weiblich</td>\n",
       "      <td>1966</td>\n",
       "      <td>9122</td>\n",
       "      <td>Ausbildung</td>\n",
       "      <td>1</td>\n",
       "      <td>Nein</td>\n",
       "      <td>Nein</td>\n",
       "      <td>Ich wohne im eigenen Haus bzw. in der eigenen ...</td>\n",
       "      <td>Nein</td>\n",
       "      <td>in einem Mehrfamilienhaus oder einer Wohnung</td>\n",
       "      <td>...</td>\n",
       "      <td>NaN</td>\n",
       "      <td>NaN</td>\n",
       "      <td>NaN</td>\n",
       "      <td>NaN</td>\n",
       "      <td>NaN</td>\n",
       "      <td>NaN</td>\n",
       "      <td>NaN</td>\n",
       "      <td>NaN</td>\n",
       "      <td>NaN</td>\n",
       "      <td>NaN</td>\n",
       "    </tr>\n",
       "    <tr>\n",
       "      <th>...</th>\n",
       "      <td>...</td>\n",
       "      <td>...</td>\n",
       "      <td>...</td>\n",
       "      <td>...</td>\n",
       "      <td>...</td>\n",
       "      <td>...</td>\n",
       "      <td>...</td>\n",
       "      <td>...</td>\n",
       "      <td>...</td>\n",
       "      <td>...</td>\n",
       "      <td>...</td>\n",
       "      <td>...</td>\n",
       "      <td>...</td>\n",
       "      <td>...</td>\n",
       "      <td>...</td>\n",
       "      <td>...</td>\n",
       "      <td>...</td>\n",
       "      <td>...</td>\n",
       "      <td>...</td>\n",
       "      <td>...</td>\n",
       "      <td>...</td>\n",
       "    </tr>\n",
       "    <tr>\n",
       "      <th>95</th>\n",
       "      <td>Weiblich</td>\n",
       "      <td>1957</td>\n",
       "      <td>1809</td>\n",
       "      <td>Hochschulabschluß</td>\n",
       "      <td>2</td>\n",
       "      <td>Nein</td>\n",
       "      <td>Nein</td>\n",
       "      <td>Ich wohne im eigenen Haus bzw. in der eigenen ...</td>\n",
       "      <td>Nein</td>\n",
       "      <td>in einem  Ein- oder Zweifamilienhaus</td>\n",
       "      <td>...</td>\n",
       "      <td>Ich wohne angrenzend zu einem Radon-Gebiet bzw...</td>\n",
       "      <td>not_clicked</td>\n",
       "      <td>not_clicked</td>\n",
       "      <td>clicked</td>\n",
       "      <td>not_clicked</td>\n",
       "      <td>not_clicked</td>\n",
       "      <td>not_clicked</td>\n",
       "      <td>not_clicked</td>\n",
       "      <td>not_clicked</td>\n",
       "      <td>not_clicked</td>\n",
       "    </tr>\n",
       "    <tr>\n",
       "      <th>96</th>\n",
       "      <td>Weiblich</td>\n",
       "      <td>1944</td>\n",
       "      <td>8248</td>\n",
       "      <td>Ausbildung</td>\n",
       "      <td>1</td>\n",
       "      <td>Nein</td>\n",
       "      <td>Nein</td>\n",
       "      <td>Ich wohne im eigenen Haus bzw. in der eigenen ...</td>\n",
       "      <td>Nein</td>\n",
       "      <td>in einem  Ein- oder Zweifamilienhaus</td>\n",
       "      <td>...</td>\n",
       "      <td>Ich wohne in einem Radon-Gebiet bzw. durchschn...</td>\n",
       "      <td>clicked</td>\n",
       "      <td>not_clicked</td>\n",
       "      <td>not_clicked</td>\n",
       "      <td>not_clicked</td>\n",
       "      <td>not_clicked</td>\n",
       "      <td>not_clicked</td>\n",
       "      <td>not_clicked</td>\n",
       "      <td>not_clicked</td>\n",
       "      <td>not_clicked</td>\n",
       "    </tr>\n",
       "    <tr>\n",
       "      <th>97</th>\n",
       "      <td>Männlich</td>\n",
       "      <td>1948</td>\n",
       "      <td>1737</td>\n",
       "      <td>Hochschulabschluß</td>\n",
       "      <td>2</td>\n",
       "      <td>Nein</td>\n",
       "      <td>Nein</td>\n",
       "      <td>Ich wohne im eigenen Haus bzw. in der eigenen ...</td>\n",
       "      <td>Nein</td>\n",
       "      <td>in einem  Ein- oder Zweifamilienhaus</td>\n",
       "      <td>...</td>\n",
       "      <td>Ich wohne angrenzend zu einem Radon-Gebiet bzw...</td>\n",
       "      <td>clicked</td>\n",
       "      <td>not_clicked</td>\n",
       "      <td>not_clicked</td>\n",
       "      <td>not_clicked</td>\n",
       "      <td>not_clicked</td>\n",
       "      <td>not_clicked</td>\n",
       "      <td>not_clicked</td>\n",
       "      <td>not_clicked</td>\n",
       "      <td>not_clicked</td>\n",
       "    </tr>\n",
       "    <tr>\n",
       "      <th>98</th>\n",
       "      <td>Weiblich</td>\n",
       "      <td>1956</td>\n",
       "      <td>1744</td>\n",
       "      <td>Ausbildung</td>\n",
       "      <td>3</td>\n",
       "      <td>Nein</td>\n",
       "      <td>Nein</td>\n",
       "      <td>Ich wohne im eigenen Haus bzw. in der eigenen ...</td>\n",
       "      <td>Nein</td>\n",
       "      <td>in einem  Ein- oder Zweifamilienhaus</td>\n",
       "      <td>...</td>\n",
       "      <td>Ich wohne angrenzend zu einem Radon-Gebiet bzw...</td>\n",
       "      <td>not_clicked</td>\n",
       "      <td>not_clicked</td>\n",
       "      <td>not_clicked</td>\n",
       "      <td>not_clicked</td>\n",
       "      <td>not_clicked</td>\n",
       "      <td>not_clicked</td>\n",
       "      <td>not_clicked</td>\n",
       "      <td>not_clicked</td>\n",
       "      <td>not_clicked</td>\n",
       "    </tr>\n",
       "    <tr>\n",
       "      <th>99</th>\n",
       "      <td>Weiblich</td>\n",
       "      <td>1953</td>\n",
       "      <td>1737</td>\n",
       "      <td>Ausbildung</td>\n",
       "      <td>2</td>\n",
       "      <td>Nein</td>\n",
       "      <td>Nein</td>\n",
       "      <td>Ich wohne im eigenen Haus bzw. in der eigenen ...</td>\n",
       "      <td>Nein</td>\n",
       "      <td>in einem  Ein- oder Zweifamilienhaus</td>\n",
       "      <td>...</td>\n",
       "      <td>Ich wohne angrenzend zu einem Radon-Gebiet bzw...</td>\n",
       "      <td>not_clicked</td>\n",
       "      <td>not_clicked</td>\n",
       "      <td>not_clicked</td>\n",
       "      <td>not_clicked</td>\n",
       "      <td>not_clicked</td>\n",
       "      <td>not_clicked</td>\n",
       "      <td>not_clicked</td>\n",
       "      <td>not_clicked</td>\n",
       "      <td>not_clicked</td>\n",
       "    </tr>\n",
       "  </tbody>\n",
       "</table>\n",
       "<p>274 rows × 199 columns</p>\n",
       "</div>"
      ],
      "text/plain": [
       "        SD01  SD02_01  SD03_01               SD04  SD05_01  SD06  SD07  \\\n",
       "0   Männlich     1960     8228  Hochschulabschluß        2  Nein  Nein   \n",
       "1   Männlich     1958     9113         Ausbildung        2  Nein  Nein   \n",
       "2   Männlich     1963     1257         Ausbildung        2  Nein  Nein   \n",
       "3   Männlich     1979    94136      Schulabschluß        4    Ja  Nein   \n",
       "4   Weiblich     1966     9122         Ausbildung        1  Nein  Nein   \n",
       "..       ...      ...      ...                ...      ...   ...   ...   \n",
       "95  Weiblich     1957     1809  Hochschulabschluß        2  Nein  Nein   \n",
       "96  Weiblich     1944     8248         Ausbildung        1  Nein  Nein   \n",
       "97  Männlich     1948     1737  Hochschulabschluß        2  Nein  Nein   \n",
       "98  Weiblich     1956     1744         Ausbildung        3  Nein  Nein   \n",
       "99  Weiblich     1953     1737         Ausbildung        2  Nein  Nein   \n",
       "\n",
       "                                                 HI01  HI02  \\\n",
       "0                                Ich wohne zur Miete.  Nein   \n",
       "1                                Ich wohne zur Miete.  Nein   \n",
       "2                                Ich wohne zur Miete.  Nein   \n",
       "3   Ich wohne im eigenen Haus bzw. in der eigenen ...  Nein   \n",
       "4   Ich wohne im eigenen Haus bzw. in der eigenen ...  Nein   \n",
       "..                                                ...   ...   \n",
       "95  Ich wohne im eigenen Haus bzw. in der eigenen ...  Nein   \n",
       "96  Ich wohne im eigenen Haus bzw. in der eigenen ...  Nein   \n",
       "97  Ich wohne im eigenen Haus bzw. in der eigenen ...  Nein   \n",
       "98  Ich wohne im eigenen Haus bzw. in der eigenen ...  Nein   \n",
       "99  Ich wohne im eigenen Haus bzw. in der eigenen ...  Nein   \n",
       "\n",
       "                                            HI03  ...  \\\n",
       "0   in einem Mehrfamilienhaus oder einer Wohnung  ...   \n",
       "1   in einem Mehrfamilienhaus oder einer Wohnung  ...   \n",
       "2   in einem Mehrfamilienhaus oder einer Wohnung  ...   \n",
       "3           in einem  Ein- oder Zweifamilienhaus  ...   \n",
       "4   in einem Mehrfamilienhaus oder einer Wohnung  ...   \n",
       "..                                           ...  ...   \n",
       "95          in einem  Ein- oder Zweifamilienhaus  ...   \n",
       "96          in einem  Ein- oder Zweifamilienhaus  ...   \n",
       "97          in einem  Ein- oder Zweifamilienhaus  ...   \n",
       "98          in einem  Ein- oder Zweifamilienhaus  ...   \n",
       "99          in einem  Ein- oder Zweifamilienhaus  ...   \n",
       "\n",
       "                                                 K001      M501_01  \\\n",
       "0                                                 NaN          NaN   \n",
       "1                                                 NaN          NaN   \n",
       "2                                                 NaN          NaN   \n",
       "3                                                 NaN          NaN   \n",
       "4                                                 NaN          NaN   \n",
       "..                                                ...          ...   \n",
       "95  Ich wohne angrenzend zu einem Radon-Gebiet bzw...  not_clicked   \n",
       "96  Ich wohne in einem Radon-Gebiet bzw. durchschn...      clicked   \n",
       "97  Ich wohne angrenzend zu einem Radon-Gebiet bzw...      clicked   \n",
       "98  Ich wohne angrenzend zu einem Radon-Gebiet bzw...  not_clicked   \n",
       "99  Ich wohne angrenzend zu einem Radon-Gebiet bzw...  not_clicked   \n",
       "\n",
       "        M501_02      M501_03      M501_04      M501_05      M501_06  \\\n",
       "0           NaN          NaN          NaN          NaN          NaN   \n",
       "1           NaN          NaN          NaN          NaN          NaN   \n",
       "2           NaN          NaN          NaN          NaN          NaN   \n",
       "3           NaN          NaN          NaN          NaN          NaN   \n",
       "4           NaN          NaN          NaN          NaN          NaN   \n",
       "..          ...          ...          ...          ...          ...   \n",
       "95  not_clicked      clicked  not_clicked  not_clicked  not_clicked   \n",
       "96  not_clicked  not_clicked  not_clicked  not_clicked  not_clicked   \n",
       "97  not_clicked  not_clicked  not_clicked  not_clicked  not_clicked   \n",
       "98  not_clicked  not_clicked  not_clicked  not_clicked  not_clicked   \n",
       "99  not_clicked  not_clicked  not_clicked  not_clicked  not_clicked   \n",
       "\n",
       "        M502_01      M502_02      M502_03  \n",
       "0           NaN          NaN          NaN  \n",
       "1           NaN          NaN          NaN  \n",
       "2           NaN          NaN          NaN  \n",
       "3           NaN          NaN          NaN  \n",
       "4           NaN          NaN          NaN  \n",
       "..          ...          ...          ...  \n",
       "95  not_clicked  not_clicked  not_clicked  \n",
       "96  not_clicked  not_clicked  not_clicked  \n",
       "97  not_clicked  not_clicked  not_clicked  \n",
       "98  not_clicked  not_clicked  not_clicked  \n",
       "99  not_clicked  not_clicked  not_clicked  \n",
       "\n",
       "[274 rows x 199 columns]"
      ]
     },
     "execution_count": 19,
     "metadata": {},
     "output_type": "execute_result"
    }
   ],
   "source": [
    "# create viz friendly dataset and labels\n",
    "prov1 = pd.DataFrame(experimental_group[experimental_group[\"H101\"] != \"Keine Angabe\"])\n",
    "prov1['Gruppe'] = \"experimental_group\"\n",
    "prov2 = pd.DataFrame(control_group[control_group[\"H101\"] != \"Keine Angabe\"])\n",
    "prov2['Gruppe'] = \"control_group\"\n",
    "prov = prov1.append(prov2)\n",
    "# calculate significan and p level\n",
    "prov"
   ]
  },
  {
   "cell_type": "code",
   "execution_count": 20,
   "metadata": {
    "scrolled": true
   },
   "outputs": [
    {
     "name": "stdout",
     "output_type": "stream",
     "text": [
      "===Chi2 Stat===\n",
      "2.8072865751978204\n",
      "\n",
      "\n",
      "===Dexperimental_grouprees of Freedom===\n",
      "1\n",
      "\n",
      "\n",
      "===P-Value===\n",
      "0.09383697108054265\n",
      "p-value=0.093837, significance=0.10\n",
      "\n",
      "At 0.10 level of significance, we reject the null hypotheses and accept H1. \n",
      "    They are not independent.\n",
      "\n",
      "\n",
      "===Contingency Table===\n",
      "[[ 17.64963504  75.35036496]\n",
      " [ 34.35036496 146.64963504]]\n"
     ]
    },
    {
     "data": {
      "image/png": "[encoded data removed]",
      "text/plain": [
       "<Figure size 648x432 with 2 Axes>"
      ]
     },
     "metadata": {
      "needs_background": "light"
     },
     "output_type": "display_data"
    },
    {
     "data": {
      "text/plain": [
       "(H101                Ja  Nein\n",
       " Gruppe                      \n",
       " control_group       12    81\n",
       " experimental_group  40   141,\n",
       " None)"
      ]
     },
     "execution_count": 20,
     "metadata": {},
     "output_type": "execute_result"
    }
   ],
   "source": [
    "# calculate significan and p level\n",
    "cross_2_col(prov['Gruppe'], prov[\"H101\"])"
   ]
  }
 ],
 "metadata": {
  "kernelspec": {
   "display_name": "Python 3 (ipykernel)",
   "language": "python",
   "name": "python3"
  },
  "language_info": {
   "codemirror_mode": {
    "name": "ipython",
    "version": 3
   },
   "file_extension": ".py",
   "mimetype": "text/x-python",
   "name": "python",
   "nbconvert_exporter": "python",
   "pygments_lexer": "ipython3",
   "version": "3.8.5"
  }
 },
 "nbformat": 4,
 "nbformat_minor": 4
}
